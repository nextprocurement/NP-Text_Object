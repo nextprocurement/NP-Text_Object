{
 "cells": [
  {
   "cell_type": "code",
   "execution_count": 1,
   "id": "6828b46e-3631-4572-937a-fd3b54f558b1",
   "metadata": {},
   "outputs": [],
   "source": [
    "!export CUDA_VISIBLE_DEVICES=2"
   ]
  },
  {
   "cell_type": "code",
   "execution_count": 30,
   "id": "adea7755-4085-490a-bd38-62cd66572599",
   "metadata": {},
   "outputs": [],
   "source": [
    "import pickle\n",
    "import pandas as pd\n",
    "from sentence_transformers import SentenceTransformer\n",
    "from sklearn.svm import OneClassSVM\n",
    "from sklearn.preprocessing import MinMaxScaler"
   ]
  },
  {
   "cell_type": "code",
   "execution_count": 3,
   "id": "9b6af44a-4d37-45fc-944b-5ecd98f66554",
   "metadata": {},
   "outputs": [],
   "source": [
    "with open('/export/usuarios_ml4ds/lbartolome/NextProcurement/NP-Text_Object/data/others/final_labels.pkl', 'rb') as file:\n",
    "    final_labels = pickle.load(file)"
   ]
  },
  {
   "cell_type": "code",
   "execution_count": 63,
   "id": "c839b7e1-cb42-4014-b18f-0d89a86ee85a",
   "metadata": {},
   "outputs": [
    {
     "data": {
      "text/plain": [
       "['objeto de la contratación',\n",
       " 'objeto de la contratacion',\n",
       " 'objeto dei contrato',\n",
       " 'objeto del contrato',\n",
       " 'objecte de la contractació',\n",
       " 'objetivos del contrato',\n",
       " 'objeto del procedimiento de contratación',\n",
       " 'información sobre el procedimiento de contratación']"
      ]
     },
     "execution_count": 63,
     "metadata": {},
     "output_type": "execute_result"
    }
   ],
   "source": [
    "objetos = ['OBJETO DE LA CONTRATACIÓN', 'OBJETO DE LA CONTRATACION', 'OBJETO DEI CONTRATO', 'OBJETO DEL CONTRATO', 'OBJECTE DE LA CONTRACTACIÓ', 'OBJETIVOS DEL CONTRATO', 'OBJETO DEL PROCEDIMIENTO DE CONTRATACIÓN', 'INFORMACIÓN SOBRE EL PROCEDIMIENTO DE CONTRATACIÓN']\n",
    "objetos = [el.lower() for el in objetos]\n",
    "objetos"
   ]
  },
  {
   "cell_type": "code",
   "execution_count": 4,
   "id": "f8102991-d6ee-48c3-95c3-cdfc0b6bff33",
   "metadata": {},
   "outputs": [
    {
     "data": {
      "text/html": [
       "<div>\n",
       "<style scoped>\n",
       "    .dataframe tbody tr th:only-of-type {\n",
       "        vertical-align: middle;\n",
       "    }\n",
       "\n",
       "    .dataframe tbody tr th {\n",
       "        vertical-align: top;\n",
       "    }\n",
       "\n",
       "    .dataframe thead th {\n",
       "        text-align: right;\n",
       "    }\n",
       "</style>\n",
       "<table border=\"1\" class=\"dataframe\">\n",
       "  <thead>\n",
       "    <tr style=\"text-align: right;\">\n",
       "      <th></th>\n",
       "      <th>Unnamed: 0</th>\n",
       "      <th>procurement_id</th>\n",
       "      <th>doc_name</th>\n",
       "      <th>text</th>\n",
       "      <th>objetivo</th>\n",
       "    </tr>\n",
       "  </thead>\n",
       "  <tbody>\n",
       "    <tr>\n",
       "      <th>0</th>\n",
       "      <td>128403</td>\n",
       "      <td>ntp00617381</td>\n",
       "      <td>ntp00617381_Pliego_Prescripciones_tecnicas_URI</td>\n",
       "      <td>pliego de prescripciones técnicas particulares...</td>\n",
       "      <td>dirección de ejecución de obra coordinacion de...</td>\n",
       "    </tr>\n",
       "    <tr>\n",
       "      <th>1</th>\n",
       "      <td>152306</td>\n",
       "      <td>ntp00552454</td>\n",
       "      <td>ntp00552454_Pliego_Prescripciones_tecnicas_URI</td>\n",
       "      <td>de ero en de aragon e ee instiuto aragonés l e...</td>\n",
       "      <td>el objeto del presente pliego es fijar las bas...</td>\n",
       "    </tr>\n",
       "    <tr>\n",
       "      <th>2</th>\n",
       "      <td>214074</td>\n",
       "      <td>ntp01175355</td>\n",
       "      <td>ntp01175355_Pliego_Prescripciones_tecnicas_URI</td>\n",
       "      <td>1ena aeropuerto de tenerife norte ciudad de la...</td>\n",
       "      <td>definir las condiciones por las que se ha de r...</td>\n",
       "    </tr>\n",
       "    <tr>\n",
       "      <th>3</th>\n",
       "      <td>156951</td>\n",
       "      <td>ntp00348490</td>\n",
       "      <td>ntp00348490_Pliego_Prescripciones_tecnicas_URI</td>\n",
       "      <td>segurtasun saila departamento de seguridad adm...</td>\n",
       "      <td>ejecución de la implantación de tomas de reca...</td>\n",
       "    </tr>\n",
       "    <tr>\n",
       "      <th>4</th>\n",
       "      <td>108923</td>\n",
       "      <td>ntp00573106</td>\n",
       "      <td>ntp00573106_Pliego_Prescripciones_tecnicas_URI</td>\n",
       "      <td>pliego de prescripciones técnicas para la cont...</td>\n",
       "      <td>el objeto del contrato es la completa ejecució...</td>\n",
       "    </tr>\n",
       "    <tr>\n",
       "      <th>...</th>\n",
       "      <td>...</td>\n",
       "      <td>...</td>\n",
       "      <td>...</td>\n",
       "      <td>...</td>\n",
       "      <td>...</td>\n",
       "    </tr>\n",
       "    <tr>\n",
       "      <th>68</th>\n",
       "      <td>196391</td>\n",
       "      <td>ntp00316053</td>\n",
       "      <td>ntp00316053_Pliego_Prescripciones_tecnicas_URI</td>\n",
       "      <td>sakidetza donostialdea esi pliego de bases téc...</td>\n",
       "      <td>el presente expediente de contratación tiene p...</td>\n",
       "    </tr>\n",
       "    <tr>\n",
       "      <th>69</th>\n",
       "      <td>232151</td>\n",
       "      <td>ntp01306212</td>\n",
       "      <td>ntp01306212_Pliego_Prescripciones_tecnicas_URI</td>\n",
       "      <td>liego de prescripciones técnicas para la contr...</td>\n",
       "      <td>prestación de un servicio de auditoría externa...</td>\n",
       "    </tr>\n",
       "    <tr>\n",
       "      <th>70</th>\n",
       "      <td>108219</td>\n",
       "      <td>ntp00496668</td>\n",
       "      <td>ntp00496668_Pliego_Prescripciones_tecnicas_URI</td>\n",
       "      <td>ip 5 expediente n2 pass 201911 universidad de ...</td>\n",
       "      <td>es objeto del presente pliego es establecer la...</td>\n",
       "    </tr>\n",
       "    <tr>\n",
       "      <th>71</th>\n",
       "      <td>80311</td>\n",
       "      <td>ntp01105326</td>\n",
       "      <td>ntp01105326_Pliego_Prescripciones_tecnicas_URI</td>\n",
       "      <td>_i 7 ul y un departamento de sanidad hospital ...</td>\n",
       "      <td>suministro de prótesis para el servicio de ang...</td>\n",
       "    </tr>\n",
       "    <tr>\n",
       "      <th>73</th>\n",
       "      <td>239023</td>\n",
       "      <td>ntp00613098</td>\n",
       "      <td>ntp00613098_Pliego_Prescripciones_tecnicas_URI</td>\n",
       "      <td>n i z proy ecto de ejecución va cubierta de gr...</td>\n",
       "      <td>proyecto de ejecución cubierta de gradas  cam...</td>\n",
       "    </tr>\n",
       "  </tbody>\n",
       "</table>\n",
       "<p>73 rows × 5 columns</p>\n",
       "</div>"
      ],
      "text/plain": [
       "    Unnamed: 0 procurement_id                                        doc_name  \\\n",
       "0       128403    ntp00617381  ntp00617381_Pliego_Prescripciones_tecnicas_URI   \n",
       "1       152306    ntp00552454  ntp00552454_Pliego_Prescripciones_tecnicas_URI   \n",
       "2       214074    ntp01175355  ntp01175355_Pliego_Prescripciones_tecnicas_URI   \n",
       "3       156951    ntp00348490  ntp00348490_Pliego_Prescripciones_tecnicas_URI   \n",
       "4       108923    ntp00573106  ntp00573106_Pliego_Prescripciones_tecnicas_URI   \n",
       "..         ...            ...                                             ...   \n",
       "68      196391    ntp00316053  ntp00316053_Pliego_Prescripciones_tecnicas_URI   \n",
       "69      232151    ntp01306212  ntp01306212_Pliego_Prescripciones_tecnicas_URI   \n",
       "70      108219    ntp00496668  ntp00496668_Pliego_Prescripciones_tecnicas_URI   \n",
       "71       80311    ntp01105326  ntp01105326_Pliego_Prescripciones_tecnicas_URI   \n",
       "73      239023    ntp00613098  ntp00613098_Pliego_Prescripciones_tecnicas_URI   \n",
       "\n",
       "                                                 text  \\\n",
       "0   pliego de prescripciones técnicas particulares...   \n",
       "1   de ero en de aragon e ee instiuto aragonés l e...   \n",
       "2   1ena aeropuerto de tenerife norte ciudad de la...   \n",
       "3   segurtasun saila departamento de seguridad adm...   \n",
       "4   pliego de prescripciones técnicas para la cont...   \n",
       "..                                                ...   \n",
       "68  sakidetza donostialdea esi pliego de bases téc...   \n",
       "69  liego de prescripciones técnicas para la contr...   \n",
       "70  ip 5 expediente n2 pass 201911 universidad de ...   \n",
       "71  _i 7 ul y un departamento de sanidad hospital ...   \n",
       "73  n i z proy ecto de ejecución va cubierta de gr...   \n",
       "\n",
       "                                             objetivo  \n",
       "0   dirección de ejecución de obra coordinacion de...  \n",
       "1   el objeto del presente pliego es fijar las bas...  \n",
       "2   definir las condiciones por las que se ha de r...  \n",
       "3    ejecución de la implantación de tomas de reca...  \n",
       "4   el objeto del contrato es la completa ejecució...  \n",
       "..                                                ...  \n",
       "68  el presente expediente de contratación tiene p...  \n",
       "69  prestación de un servicio de auditoría externa...  \n",
       "70  es objeto del presente pliego es establecer la...  \n",
       "71  suministro de prótesis para el servicio de ang...  \n",
       "73   proyecto de ejecución cubierta de gradas  cam...  \n",
       "\n",
       "[73 rows x 5 columns]"
      ]
     },
     "execution_count": 4,
     "metadata": {},
     "output_type": "execute_result"
    }
   ],
   "source": [
    "df_zaragoza = pd.read_excel(\"/export/usuarios_ml4ds/lbartolome/NextProcurement/NP-Text_Object/data/admin_eval_task/curated/tarea_zaragoza.xlsx\")\n",
    "df_zaragoza[df_zaragoza.objetivo != \"/\"]"
   ]
  },
  {
   "cell_type": "code",
   "execution_count": 14,
   "id": "565daf6a-a089-4cd2-97ab-86eb42b82aab",
   "metadata": {},
   "outputs": [],
   "source": [
    "objetivos = df_zaragoza[df_zaragoza.objetivo != \"/\"].objetivo.values.tolist()\n",
    "objetivos = [obj for obj in objetivos if not pd.isna(obj)]"
   ]
  },
  {
   "cell_type": "code",
   "execution_count": 45,
   "id": "d88c9b1a-07bf-4ca9-87df-6b0d96fe6b03",
   "metadata": {},
   "outputs": [
    {
     "name": "stderr",
     "output_type": "stream",
     "text": [
      "/home/lbartolome/.local/lib/python3.10/site-packages/huggingface_hub/file_download.py:1132: FutureWarning: `resume_download` is deprecated and will be removed in version 1.0.0. Downloads always resume when possible. If you want to force a new download, use `force_download=True`.\n",
      "  warnings.warn(\n"
     ]
    },
    {
     "data": {
      "text/html": [
       "<style>#sk-container-id-9 {color: black;}#sk-container-id-9 pre{padding: 0;}#sk-container-id-9 div.sk-toggleable {background-color: white;}#sk-container-id-9 label.sk-toggleable__label {cursor: pointer;display: block;width: 100%;margin-bottom: 0;padding: 0.3em;box-sizing: border-box;text-align: center;}#sk-container-id-9 label.sk-toggleable__label-arrow:before {content: \"▸\";float: left;margin-right: 0.25em;color: #696969;}#sk-container-id-9 label.sk-toggleable__label-arrow:hover:before {color: black;}#sk-container-id-9 div.sk-estimator:hover label.sk-toggleable__label-arrow:before {color: black;}#sk-container-id-9 div.sk-toggleable__content {max-height: 0;max-width: 0;overflow: hidden;text-align: left;background-color: #f0f8ff;}#sk-container-id-9 div.sk-toggleable__content pre {margin: 0.2em;color: black;border-radius: 0.25em;background-color: #f0f8ff;}#sk-container-id-9 input.sk-toggleable__control:checked~div.sk-toggleable__content {max-height: 200px;max-width: 100%;overflow: auto;}#sk-container-id-9 input.sk-toggleable__control:checked~label.sk-toggleable__label-arrow:before {content: \"▾\";}#sk-container-id-9 div.sk-estimator input.sk-toggleable__control:checked~label.sk-toggleable__label {background-color: #d4ebff;}#sk-container-id-9 div.sk-label input.sk-toggleable__control:checked~label.sk-toggleable__label {background-color: #d4ebff;}#sk-container-id-9 input.sk-hidden--visually {border: 0;clip: rect(1px 1px 1px 1px);clip: rect(1px, 1px, 1px, 1px);height: 1px;margin: -1px;overflow: hidden;padding: 0;position: absolute;width: 1px;}#sk-container-id-9 div.sk-estimator {font-family: monospace;background-color: #f0f8ff;border: 1px dotted black;border-radius: 0.25em;box-sizing: border-box;margin-bottom: 0.5em;}#sk-container-id-9 div.sk-estimator:hover {background-color: #d4ebff;}#sk-container-id-9 div.sk-parallel-item::after {content: \"\";width: 100%;border-bottom: 1px solid gray;flex-grow: 1;}#sk-container-id-9 div.sk-label:hover label.sk-toggleable__label {background-color: #d4ebff;}#sk-container-id-9 div.sk-serial::before {content: \"\";position: absolute;border-left: 1px solid gray;box-sizing: border-box;top: 0;bottom: 0;left: 50%;z-index: 0;}#sk-container-id-9 div.sk-serial {display: flex;flex-direction: column;align-items: center;background-color: white;padding-right: 0.2em;padding-left: 0.2em;position: relative;}#sk-container-id-9 div.sk-item {position: relative;z-index: 1;}#sk-container-id-9 div.sk-parallel {display: flex;align-items: stretch;justify-content: center;background-color: white;position: relative;}#sk-container-id-9 div.sk-item::before, #sk-container-id-9 div.sk-parallel-item::before {content: \"\";position: absolute;border-left: 1px solid gray;box-sizing: border-box;top: 0;bottom: 0;left: 50%;z-index: -1;}#sk-container-id-9 div.sk-parallel-item {display: flex;flex-direction: column;z-index: 1;position: relative;background-color: white;}#sk-container-id-9 div.sk-parallel-item:first-child::after {align-self: flex-end;width: 50%;}#sk-container-id-9 div.sk-parallel-item:last-child::after {align-self: flex-start;width: 50%;}#sk-container-id-9 div.sk-parallel-item:only-child::after {width: 0;}#sk-container-id-9 div.sk-dashed-wrapped {border: 1px dashed gray;margin: 0 0.4em 0.5em 0.4em;box-sizing: border-box;padding-bottom: 0.4em;background-color: white;}#sk-container-id-9 div.sk-label label {font-family: monospace;font-weight: bold;display: inline-block;line-height: 1.2em;}#sk-container-id-9 div.sk-label-container {text-align: center;}#sk-container-id-9 div.sk-container {/* jupyter's `normalize.less` sets `[hidden] { display: none; }` but bootstrap.min.css set `[hidden] { display: none !important; }` so we also need the `!important` here to be able to override the default hidden behavior on the sphinx rendered scikit-learn.org. See: https://github.com/scikit-learn/scikit-learn/issues/21755 */display: inline-block !important;position: relative;}#sk-container-id-9 div.sk-text-repr-fallback {display: none;}</style><div id=\"sk-container-id-9\" class=\"sk-top-container\"><div class=\"sk-text-repr-fallback\"><pre>OneClassSVM(gamma=&#x27;auto&#x27;, nu=0.1)</pre><b>In a Jupyter environment, please rerun this cell to show the HTML representation or trust the notebook. <br />On GitHub, the HTML representation is unable to render, please try loading this page with nbviewer.org.</b></div><div class=\"sk-container\" hidden><div class=\"sk-item\"><div class=\"sk-estimator sk-toggleable\"><input class=\"sk-toggleable__control sk-hidden--visually\" id=\"sk-estimator-id-9\" type=\"checkbox\" checked><label for=\"sk-estimator-id-9\" class=\"sk-toggleable__label sk-toggleable__label-arrow\">OneClassSVM</label><div class=\"sk-toggleable__content\"><pre>OneClassSVM(gamma=&#x27;auto&#x27;, nu=0.1)</pre></div></div></div></div></div>"
      ],
      "text/plain": [
       "OneClassSVM(gamma='auto', nu=0.1)"
      ]
     },
     "execution_count": 45,
     "metadata": {},
     "output_type": "execute_result"
    }
   ],
   "source": [
    "# Load pre-trained SentenceTransformer model\n",
    "model = SentenceTransformer(\"jaimevera1107/all-MiniLM-L6-v2-similarity-es\")\n",
    "\n",
    "positive_embeddings = model.encode(objetivos)\n",
    "\n",
    "# Train One-Class SVM on the embeddings of positive questions\n",
    "ocsvm = OneClassSVM(kernel='rbf', gamma='auto', nu=0.1)\n",
    "ocsvm.fit(positive_embeddings)"
   ]
  },
  {
   "cell_type": "code",
   "execution_count": 39,
   "id": "1d51eff9-0477-42e6-8911-e8394c868de5",
   "metadata": {},
   "outputs": [
    {
     "data": {
      "text/html": [
       "<style>#sk-container-id-7 {color: black;}#sk-container-id-7 pre{padding: 0;}#sk-container-id-7 div.sk-toggleable {background-color: white;}#sk-container-id-7 label.sk-toggleable__label {cursor: pointer;display: block;width: 100%;margin-bottom: 0;padding: 0.3em;box-sizing: border-box;text-align: center;}#sk-container-id-7 label.sk-toggleable__label-arrow:before {content: \"▸\";float: left;margin-right: 0.25em;color: #696969;}#sk-container-id-7 label.sk-toggleable__label-arrow:hover:before {color: black;}#sk-container-id-7 div.sk-estimator:hover label.sk-toggleable__label-arrow:before {color: black;}#sk-container-id-7 div.sk-toggleable__content {max-height: 0;max-width: 0;overflow: hidden;text-align: left;background-color: #f0f8ff;}#sk-container-id-7 div.sk-toggleable__content pre {margin: 0.2em;color: black;border-radius: 0.25em;background-color: #f0f8ff;}#sk-container-id-7 input.sk-toggleable__control:checked~div.sk-toggleable__content {max-height: 200px;max-width: 100%;overflow: auto;}#sk-container-id-7 input.sk-toggleable__control:checked~label.sk-toggleable__label-arrow:before {content: \"▾\";}#sk-container-id-7 div.sk-estimator input.sk-toggleable__control:checked~label.sk-toggleable__label {background-color: #d4ebff;}#sk-container-id-7 div.sk-label input.sk-toggleable__control:checked~label.sk-toggleable__label {background-color: #d4ebff;}#sk-container-id-7 input.sk-hidden--visually {border: 0;clip: rect(1px 1px 1px 1px);clip: rect(1px, 1px, 1px, 1px);height: 1px;margin: -1px;overflow: hidden;padding: 0;position: absolute;width: 1px;}#sk-container-id-7 div.sk-estimator {font-family: monospace;background-color: #f0f8ff;border: 1px dotted black;border-radius: 0.25em;box-sizing: border-box;margin-bottom: 0.5em;}#sk-container-id-7 div.sk-estimator:hover {background-color: #d4ebff;}#sk-container-id-7 div.sk-parallel-item::after {content: \"\";width: 100%;border-bottom: 1px solid gray;flex-grow: 1;}#sk-container-id-7 div.sk-label:hover label.sk-toggleable__label {background-color: #d4ebff;}#sk-container-id-7 div.sk-serial::before {content: \"\";position: absolute;border-left: 1px solid gray;box-sizing: border-box;top: 0;bottom: 0;left: 50%;z-index: 0;}#sk-container-id-7 div.sk-serial {display: flex;flex-direction: column;align-items: center;background-color: white;padding-right: 0.2em;padding-left: 0.2em;position: relative;}#sk-container-id-7 div.sk-item {position: relative;z-index: 1;}#sk-container-id-7 div.sk-parallel {display: flex;align-items: stretch;justify-content: center;background-color: white;position: relative;}#sk-container-id-7 div.sk-item::before, #sk-container-id-7 div.sk-parallel-item::before {content: \"\";position: absolute;border-left: 1px solid gray;box-sizing: border-box;top: 0;bottom: 0;left: 50%;z-index: -1;}#sk-container-id-7 div.sk-parallel-item {display: flex;flex-direction: column;z-index: 1;position: relative;background-color: white;}#sk-container-id-7 div.sk-parallel-item:first-child::after {align-self: flex-end;width: 50%;}#sk-container-id-7 div.sk-parallel-item:last-child::after {align-self: flex-start;width: 50%;}#sk-container-id-7 div.sk-parallel-item:only-child::after {width: 0;}#sk-container-id-7 div.sk-dashed-wrapped {border: 1px dashed gray;margin: 0 0.4em 0.5em 0.4em;box-sizing: border-box;padding-bottom: 0.4em;background-color: white;}#sk-container-id-7 div.sk-label label {font-family: monospace;font-weight: bold;display: inline-block;line-height: 1.2em;}#sk-container-id-7 div.sk-label-container {text-align: center;}#sk-container-id-7 div.sk-container {/* jupyter's `normalize.less` sets `[hidden] { display: none; }` but bootstrap.min.css set `[hidden] { display: none !important; }` so we also need the `!important` here to be able to override the default hidden behavior on the sphinx rendered scikit-learn.org. See: https://github.com/scikit-learn/scikit-learn/issues/21755 */display: inline-block !important;position: relative;}#sk-container-id-7 div.sk-text-repr-fallback {display: none;}</style><div id=\"sk-container-id-7\" class=\"sk-top-container\"><div class=\"sk-text-repr-fallback\"><pre>OneClassSVM(gamma=&#x27;auto&#x27;, nu=0.1)</pre><b>In a Jupyter environment, please rerun this cell to show the HTML representation or trust the notebook. <br />On GitHub, the HTML representation is unable to render, please try loading this page with nbviewer.org.</b></div><div class=\"sk-container\" hidden><div class=\"sk-item\"><div class=\"sk-estimator sk-toggleable\"><input class=\"sk-toggleable__control sk-hidden--visually\" id=\"sk-estimator-id-7\" type=\"checkbox\" checked><label for=\"sk-estimator-id-7\" class=\"sk-toggleable__label sk-toggleable__label-arrow\">OneClassSVM</label><div class=\"sk-toggleable__content\"><pre>OneClassSVM(gamma=&#x27;auto&#x27;, nu=0.1)</pre></div></div></div></div></div>"
      ],
      "text/plain": [
       "OneClassSVM(gamma='auto', nu=0.1)"
      ]
     },
     "execution_count": 39,
     "metadata": {},
     "output_type": "execute_result"
    }
   ],
   "source": [
    "from sklearn.feature_extraction.text import CountVectorizer\n",
    "from sklearn.svm import OneClassSVM\n",
    "\n",
    "vectorizer = CountVectorizer(max_features=5000)  \n",
    "\n",
    "positive_embeddings = vectorizer.fit_transform(objetivos).toarray()\n",
    "\n",
    "ocsvm = OneClassSVM(kernel='rbf', gamma='auto', nu=0.1)\n",
    "ocsvm.fit(positive_embeddings)"
   ]
  },
  {
   "cell_type": "code",
   "execution_count": 46,
   "id": "b0e190ee-ae63-417d-9582-1b7399765471",
   "metadata": {},
   "outputs": [],
   "source": [
    "scores = ocsvm.decision_function(positive_embeddings)\n",
    "\n",
    "scaler = MinMaxScaler()\n",
    "normalized_scores = scaler.fit_transform(scores.reshape(-1, 1))\n",
    "\n",
    "normalized_scores = normalized_scores.flatten()"
   ]
  },
  {
   "cell_type": "code",
   "execution_count": 8,
   "id": "738a2fa6-1525-4c35-b515-2f3bcaacb3a8",
   "metadata": {},
   "outputs": [],
   "source": [
    "df = pd.read_parquet(\"/export/data_ml4ds/NextProcurement/PLACE/pliegos_objectives/all_extracted_12aug_es/all_extracted_12aug_es_36_objectives.parquet\")"
   ]
  },
  {
   "cell_type": "code",
   "execution_count": 9,
   "id": "7ffcf9ec-0e7a-467d-978d-753cd23446df",
   "metadata": {},
   "outputs": [
    {
     "data": {
      "text/plain": [
       "'El objeto de este contrato es el Suministro, Instalación y Puesta en Funcionamiento de UN AUTOTRANSFUSOR con destino el Bloque Quirúrgico varios servicios del Complejo Asistencial Universitario de Salamanca.'"
      ]
     },
     "execution_count": 9,
     "metadata": {},
     "output_type": "execute_result"
    }
   ],
   "source": [
    "test_pos = df[20:50][\"objective\"].iloc[1]\n",
    "test_pos"
   ]
  },
  {
   "cell_type": "code",
   "execution_count": 10,
   "id": "82c306b0-3ef4-4c74-9b59-32722bdc17e4",
   "metadata": {},
   "outputs": [
    {
     "data": {
      "text/plain": [
       "'El servicio se realizará conforme a lo establecido en el contrato, el Pliego de Cláusulas Administrativas Particulares y presente Pliego de Condiciones Técnicas. La duración del mismo será de 9 meses computándose desde el día 1 de octubre de 2018 o bien desde el día siguiente a la firma del contrato'"
      ]
     },
     "execution_count": 10,
     "metadata": {},
     "output_type": "execute_result"
    }
   ],
   "source": [
    "test = df[20:50][\"objective\"].iloc[3]\n",
    "test"
   ]
  },
  {
   "cell_type": "code",
   "execution_count": 25,
   "id": "c1d5c962-e185-4d60-ba9c-722297f24b1f",
   "metadata": {},
   "outputs": [
    {
     "data": {
      "text/plain": [
       "array([-1])"
      ]
     },
     "execution_count": 25,
     "metadata": {},
     "output_type": "execute_result"
    }
   ],
   "source": [
    "predictions = ocsvm.predict(vectorizer.transform([test_pos]).toarray())\n",
    "predictions"
   ]
  },
  {
   "cell_type": "code",
   "execution_count": 49,
   "id": "3cf63b1a-d128-4671-b182-6e810e3253a0",
   "metadata": {},
   "outputs": [
    {
     "data": {
      "text/plain": [
       "array([0.35949105, 0.57887048])"
      ]
     },
     "execution_count": 49,
     "metadata": {},
     "output_type": "execute_result"
    }
   ],
   "source": [
    "new_data_embeddings = model.encode([test_pos, test])\n",
    "\n",
    "new_scores = ocsvm.decision_function(new_data_embeddings)\n",
    "\n",
    "normalized_new_scores = scaler.transform(new_scores.reshape(-1, 1))\n",
    "\n",
    "normalized_new_scores = normalized_new_scores.flatten()\n",
    "\n",
    "normalized_new_scores"
   ]
  },
  {
   "cell_type": "code",
   "execution_count": 53,
   "id": "5d826664-b950-441a-970a-729d9deb55f0",
   "metadata": {},
   "outputs": [
    {
     "data": {
      "text/plain": [
       "Index(['procurement_id_x', 'doc_name', 'translated', 'extracted',\n",
       "       'clean_extracted', 'lang', 'objective', 'in_text_score', 'processed_0',\n",
       "       'processed_1000', 'processed_2000', 'processed_3000', 'processed_4000'],\n",
       "      dtype='object')"
      ]
     },
     "execution_count": 53,
     "metadata": {},
     "output_type": "execute_result"
    }
   ],
   "source": [
    "df.columns"
   ]
  },
  {
   "cell_type": "code",
   "execution_count": 64,
   "id": "56c922a6-e5b7-4c53-bcb3-9f7a4aff0970",
   "metadata": {},
   "outputs": [],
   "source": [
    "def is_in(x):\n",
    "    x = x.lower()\n",
    "    for el in objetos:\n",
    "        if el in x:\n",
    "            return el\n",
    "    return \"/\""
   ]
  },
  {
   "cell_type": "code",
   "execution_count": 65,
   "id": "0e876cb3-5c66-45cf-bf0f-047efb67fb51",
   "metadata": {},
   "outputs": [],
   "source": [
    "df[\"is_in\"] = df[\"clean_extracted\"].apply(is_in)"
   ]
  },
  {
   "cell_type": "code",
   "execution_count": 60,
   "id": "e363366c-9f62-4117-84b5-9ba482a4966c",
   "metadata": {},
   "outputs": [
    {
     "data": {
      "text/plain": [
       "116"
      ]
     },
     "execution_count": 60,
     "metadata": {},
     "output_type": "execute_result"
    }
   ],
   "source": [
    "len(df[df.is_in != \"/\"])"
   ]
  },
  {
   "cell_type": "code",
   "execution_count": 66,
   "id": "9d1391f8-4263-4b9a-9662-661705772989",
   "metadata": {},
   "outputs": [
    {
     "data": {
      "text/plain": [
       "6640"
      ]
     },
     "execution_count": 66,
     "metadata": {},
     "output_type": "execute_result"
    }
   ],
   "source": [
    "len(df[df.is_in != \"/\"])"
   ]
  },
  {
   "cell_type": "code",
   "execution_count": 67,
   "id": "880d3a16-73e3-4603-87fc-d78f0e7a055b",
   "metadata": {},
   "outputs": [
    {
     "data": {
      "text/plain": [
       "10000"
      ]
     },
     "execution_count": 67,
     "metadata": {},
     "output_type": "execute_result"
    }
   ],
   "source": [
    "len(df)"
   ]
  },
  {
   "cell_type": "code",
   "execution_count": 59,
   "id": "b0453653-22d1-4fcd-84e5-86ef28fc9115",
   "metadata": {},
   "outputs": [
    {
     "data": {
      "text/plain": [
       "procurement_id_x                                          ntp10513969\n",
       "doc_name               ntp10513969_Pliego_Prescripciones_tecnicas_URI\n",
       "translated                                                         no\n",
       "extracted           PLIEGO DE PRESCRIPCIONES TÉCNICAS PARALA CONTR...\n",
       "clean_extracted     PLIEGO DE PRESCRIPCIONES TÉCNICAS PARALA CONTR...\n",
       "lang                                                         spa_Latn\n",
       "objective           Contratación de los trabajos de adecuación de ...\n",
       "in_text_score                                                     1.0\n",
       "processed_0                                                      True\n",
       "processed_1000                                                   True\n",
       "processed_2000                                                   True\n",
       "processed_3000                                                   True\n",
       "processed_4000                                                   True\n",
       "is_in                                       OBJETO DE LA CONTRATACIÓN\n",
       "Name: 403604, dtype: object"
      ]
     },
     "execution_count": 59,
     "metadata": {},
     "output_type": "execute_result"
    }
   ],
   "source": [
    "df[df.is_in != \"/\"][20:50].iloc[3]"
   ]
  }
 ],
 "metadata": {
  "kernelspec": {
   "display_name": "prueba",
   "language": "python",
   "name": "prueba"
  },
  "language_info": {
   "codemirror_mode": {
    "name": "ipython",
    "version": 3
   },
   "file_extension": ".py",
   "mimetype": "text/x-python",
   "name": "python",
   "nbconvert_exporter": "python",
   "pygments_lexer": "ipython3",
   "version": "3.10.9"
  }
 },
 "nbformat": 4,
 "nbformat_minor": 5
}
