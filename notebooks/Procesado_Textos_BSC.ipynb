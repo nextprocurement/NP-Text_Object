{
 "cells": [
  {
   "cell_type": "code",
   "execution_count": 2,
   "id": "9730fd2b",
   "metadata": {},
   "outputs": [],
   "source": [
    "import os\n",
    "import pandas as pd\n",
    "from tqdm import tqdm \n",
    "from sentence_transformers import SentenceTransformer\n",
    "import time\n",
    "from lxml import etree\n",
    "import pathlib\n",
    "import re\n",
    "from bs4 import BeautifulSoup"
   ]
  },
  {
   "cell_type": "code",
   "execution_count": 2,
   "id": "c6c725ac",
   "metadata": {},
   "outputs": [
    {
     "name": "stderr",
     "output_type": "stream",
     "text": [
      "/home/lbartolome/.local/lib/python3.10/site-packages/huggingface_hub/file_download.py:1132: FutureWarning: `resume_download` is deprecated and will be removed in version 1.0.0. Downloads always resume when possible. If you want to force a new download, use `force_download=True`.\n",
      "  warnings.warn(\n"
     ]
    }
   ],
   "source": [
    "model = SentenceTransformer('sentence-transformers/paraphrase-multilingual-MiniLM-L12-v2')"
   ]
  },
  {
   "cell_type": "code",
   "execution_count": 6,
   "id": "4249e7ca",
   "metadata": {},
   "outputs": [],
   "source": [
    "def calculate_embedding(text_list):\n",
    "    return [model.encode(text) for text in text_list]\n",
    "\n",
    "def extract_heading_text(xml_content):\n",
    "    try:\n",
    "        # Parsear el contenido XML para crear un árbol de elementos\n",
    "        root = etree.fromstring(xml_content)\n",
    "        \n",
    "        # Lista para guardar textos de las etiquetas 'heading'\n",
    "        heading_texts = []        \n",
    "        # Recorrer todos los elementos y extraer textos de las etiquetas 'heading'\n",
    "        for element in root.iter('heading'):\n",
    "            # Agregar el texto de la etiqueta 'heading' a la lista\n",
    "            heading_texts.append(element.text.strip() if element.text else \"\")\n",
    "        \n",
    "        return heading_texts\n",
    "    except etree.XMLSyntaxError:\n",
    "        print(\"Error al parsear xml\")\n",
    "        return []  \n",
    "    \n",
    "def extract_all_xml_tags(xml_content):\n",
    "    try:\n",
    "        # Parsear el contenido XML para crear un árbol de elementos\n",
    "        root = etree.fromstring(xml_content)\n",
    "        # Inicializar una lista para guardar solo los nombres de las etiquetas\n",
    "        all_tags = []\n",
    "        # Recorrer todos los elementos en el árbol XML\n",
    "        for element in root.iter():\n",
    "            all_tags.append(element.tag)\n",
    "    \n",
    "        return all_tags\n",
    "    \n",
    "    except etree.XMLSyntaxError:\n",
    "        print(\"Error al procesar\")\n",
    "        return []"
   ]
  },
  {
   "cell_type": "code",
   "execution_count": 7,
   "id": "0116a731-2aae-497f-b923-659b3fea0a3b",
   "metadata": {
    "tags": []
   },
   "outputs": [],
   "source": [
    "from lxml import etree\n",
    "def parse_xml_from_bytes(data_bytes):\n",
    "    try:\n",
    "        # Parsear el XML directamente desde bytes\n",
    "        root = etree.fromstring(data_bytes)\n",
    "        # Para extraer todo el texto concatenado de los elementos XML\n",
    "        return ''.join(root.xpath('//text()'))\n",
    "    except Exception as e:\n",
    "        print(f\"Error al parsear XML: {e}\")\n",
    "        return None"
   ]
  },
  {
   "cell_type": "code",
   "execution_count": 8,
   "id": "e14ac584-3420-48d2-8287-864a35e5273b",
   "metadata": {
    "tags": []
   },
   "outputs": [],
   "source": [
    "import re\n",
    "import xml.etree.ElementTree as ET\n",
    "\n",
    "def extract_text(xml_string):\n",
    "    # Remove the initial double quotes and escaped newlines\n",
    "    xml_string = xml_string.strip('\"').replace('\\\\n', '')\n",
    "    \n",
    "    # Replace double double quotes with single double quotes\n",
    "    xml_string = xml_string.replace('\"\"', '\"')\n",
    "    \n",
    "    # Use regex to fix XML declaration if it's malformed\n",
    "    xml_string = re.sub(r'(<\\?xml[^>]+>)', r'\\1', xml_string)\n",
    "    \n",
    "    # Parse XML\n",
    "    root = ET.fromstring(xml_string)\n",
    "    \n",
    "    # Extract text from all elements\n",
    "    texts = []\n",
    "    for elem in root.iter():\n",
    "        if elem.text:\n",
    "            texts.append(elem.text.strip())\n",
    "    \n",
    "    # Join all extracted texts with spaces\n",
    "    extracted_text = ' '.join(texts)\n",
    "    return extracted_text"
   ]
  },
  {
   "cell_type": "code",
   "execution_count": 6,
   "id": "297eb48b-585b-4385-ae7f-d44d9d43da6b",
   "metadata": {
    "tags": []
   },
   "outputs": [
    {
     "data": {
      "text/html": [
       "<div>\n",
       "<style scoped>\n",
       "    .dataframe tbody tr th:only-of-type {\n",
       "        vertical-align: middle;\n",
       "    }\n",
       "\n",
       "    .dataframe tbody tr th {\n",
       "        vertical-align: top;\n",
       "    }\n",
       "\n",
       "    .dataframe thead th {\n",
       "        text-align: right;\n",
       "    }\n",
       "</style>\n",
       "<table border=\"1\" class=\"dataframe\">\n",
       "  <thead>\n",
       "    <tr style=\"text-align: right;\">\n",
       "      <th></th>\n",
       "      <th>procurement_id</th>\n",
       "      <th>doc_name</th>\n",
       "      <th>content</th>\n",
       "      <th>alternative_lang</th>\n",
       "      <th>translated_content</th>\n",
       "    </tr>\n",
       "  </thead>\n",
       "  <tbody>\n",
       "    <tr>\n",
       "      <th>0</th>\n",
       "      <td>ntp01156775</td>\n",
       "      <td>ntp01156775_Pliego_clausulas_administrativas_URI</td>\n",
       "      <td>b'&lt;?xml version=\\'1.0\\' encoding=\\'utf8\\'?&gt;\\n&lt;...</td>\n",
       "      <td></td>\n",
       "      <td></td>\n",
       "    </tr>\n",
       "    <tr>\n",
       "      <th>1</th>\n",
       "      <td>ntp01156775</td>\n",
       "      <td>ntp01156775_Anexos_pliegos_URI:1</td>\n",
       "      <td>b\"&lt;?xml version='1.0' encoding='utf8'?&gt;\\n&lt;docu...</td>\n",
       "      <td></td>\n",
       "      <td></td>\n",
       "    </tr>\n",
       "    <tr>\n",
       "      <th>2</th>\n",
       "      <td>ntp01156775</td>\n",
       "      <td>ntp01156775_Anexos_pliegos_URI:0</td>\n",
       "      <td>b\"&lt;?xml version='1.0' encoding='utf8'?&gt;\\n&lt;docu...</td>\n",
       "      <td></td>\n",
       "      <td></td>\n",
       "    </tr>\n",
       "    <tr>\n",
       "      <th>3</th>\n",
       "      <td>ntp01156775</td>\n",
       "      <td>ntp01156775_Anexos_pliegos_URI:3</td>\n",
       "      <td>b\"&lt;?xml version='1.0' encoding='utf8'?&gt;\\n&lt;docu...</td>\n",
       "      <td></td>\n",
       "      <td></td>\n",
       "    </tr>\n",
       "    <tr>\n",
       "      <th>4</th>\n",
       "      <td>ntp01156775</td>\n",
       "      <td>ntp01156775_Documento_Publicado_URI:3</td>\n",
       "      <td>b\"&lt;?xml version='1.0' encoding='utf8'?&gt;\\n&lt;docu...</td>\n",
       "      <td></td>\n",
       "      <td></td>\n",
       "    </tr>\n",
       "    <tr>\n",
       "      <th>...</th>\n",
       "      <td>...</td>\n",
       "      <td>...</td>\n",
       "      <td>...</td>\n",
       "      <td>...</td>\n",
       "      <td>...</td>\n",
       "    </tr>\n",
       "    <tr>\n",
       "      <th>251203</th>\n",
       "      <td>ntp01089479</td>\n",
       "      <td>ntp01089479_Documento_Publicado_URI:0</td>\n",
       "      <td>b\"&lt;?xml version='1.0' encoding='utf8'?&gt;\\n&lt;docu...</td>\n",
       "      <td></td>\n",
       "      <td></td>\n",
       "    </tr>\n",
       "    <tr>\n",
       "      <th>251204</th>\n",
       "      <td>ntp01089479</td>\n",
       "      <td>ntp01089479_Documento_Publicado_URI:2</td>\n",
       "      <td>b'&lt;?xml version=\\'1.0\\' encoding=\\'utf8\\'?&gt;\\n&lt;...</td>\n",
       "      <td></td>\n",
       "      <td></td>\n",
       "    </tr>\n",
       "    <tr>\n",
       "      <th>251205</th>\n",
       "      <td>ntp01089479</td>\n",
       "      <td>ntp01089479_Documento_Publicado_URI:5</td>\n",
       "      <td>b\"&lt;?xml version='1.0' encoding='utf8'?&gt;\\n&lt;docu...</td>\n",
       "      <td></td>\n",
       "      <td></td>\n",
       "    </tr>\n",
       "    <tr>\n",
       "      <th>251206</th>\n",
       "      <td>ntp01089479</td>\n",
       "      <td>ntp01089479_Documento_Publicado_URI:1</td>\n",
       "      <td>b\"&lt;?xml version='1.0' encoding='utf8'?&gt;\\n&lt;docu...</td>\n",
       "      <td></td>\n",
       "      <td></td>\n",
       "    </tr>\n",
       "    <tr>\n",
       "      <th>251207</th>\n",
       "      <td>ntp11763605</td>\n",
       "      <td>ntp11763605_Publicaciones_oficiales_URI</td>\n",
       "      <td>b'&lt;?xml version=\\'1.0\\' encoding=\\'utf8\\'?&gt;\\n&lt;...</td>\n",
       "      <td></td>\n",
       "      <td></td>\n",
       "    </tr>\n",
       "  </tbody>\n",
       "</table>\n",
       "<p>251208 rows × 5 columns</p>\n",
       "</div>"
      ],
      "text/plain": [
       "       procurement_id                                          doc_name  \\\n",
       "0         ntp01156775  ntp01156775_Pliego_clausulas_administrativas_URI   \n",
       "1         ntp01156775                  ntp01156775_Anexos_pliegos_URI:1   \n",
       "2         ntp01156775                  ntp01156775_Anexos_pliegos_URI:0   \n",
       "3         ntp01156775                  ntp01156775_Anexos_pliegos_URI:3   \n",
       "4         ntp01156775             ntp01156775_Documento_Publicado_URI:3   \n",
       "...               ...                                               ...   \n",
       "251203    ntp01089479             ntp01089479_Documento_Publicado_URI:0   \n",
       "251204    ntp01089479             ntp01089479_Documento_Publicado_URI:2   \n",
       "251205    ntp01089479             ntp01089479_Documento_Publicado_URI:5   \n",
       "251206    ntp01089479             ntp01089479_Documento_Publicado_URI:1   \n",
       "251207    ntp11763605           ntp11763605_Publicaciones_oficiales_URI   \n",
       "\n",
       "                                                  content alternative_lang  \\\n",
       "0       b'<?xml version=\\'1.0\\' encoding=\\'utf8\\'?>\\n<...                    \n",
       "1       b\"<?xml version='1.0' encoding='utf8'?>\\n<docu...                    \n",
       "2       b\"<?xml version='1.0' encoding='utf8'?>\\n<docu...                    \n",
       "3       b\"<?xml version='1.0' encoding='utf8'?>\\n<docu...                    \n",
       "4       b\"<?xml version='1.0' encoding='utf8'?>\\n<docu...                    \n",
       "...                                                   ...              ...   \n",
       "251203  b\"<?xml version='1.0' encoding='utf8'?>\\n<docu...                    \n",
       "251204  b'<?xml version=\\'1.0\\' encoding=\\'utf8\\'?>\\n<...                    \n",
       "251205  b\"<?xml version='1.0' encoding='utf8'?>\\n<docu...                    \n",
       "251206  b\"<?xml version='1.0' encoding='utf8'?>\\n<docu...                    \n",
       "251207  b'<?xml version=\\'1.0\\' encoding=\\'utf8\\'?>\\n<...                    \n",
       "\n",
       "       translated_content  \n",
       "0                          \n",
       "1                          \n",
       "2                          \n",
       "3                          \n",
       "4                          \n",
       "...                   ...  \n",
       "251203                     \n",
       "251204                     \n",
       "251205                     \n",
       "251206                     \n",
       "251207                     \n",
       "\n",
       "[251208 rows x 5 columns]"
      ]
     },
     "execution_count": 6,
     "metadata": {},
     "output_type": "execute_result"
    }
   ],
   "source": [
    "df = pd.read_parquet(\"/export/data_ml4ds/NextProcurement/PLACE/pdf2txt_ca_translated/procurements_file_10_containing_251208_docs_mark_fixed.parq\")\n",
    "df"
   ]
  },
  {
   "cell_type": "code",
   "execution_count": 8,
   "id": "ff5711da-323d-4108-8802-3db159167a03",
   "metadata": {
    "tags": []
   },
   "outputs": [],
   "source": [
    "#df_[df_.procurement_id==\"ntp00310764\"].translated_content.iloc[0][0:100]"
   ]
  },
  {
   "cell_type": "code",
   "execution_count": null,
   "id": "266e0229-bcd0-4a08-891f-5bc7390ec1f4",
   "metadata": {
    "tags": []
   },
   "outputs": [],
   "source": [
    "#df_ = combined_df[combined_df.translated_content!=\"\"]\n",
    "#df_"
   ]
  },
  {
   "cell_type": "code",
   "execution_count": null,
   "id": "77b73e25-47db-40db-ac14-bb1a92bec23d",
   "metadata": {
    "tags": []
   },
   "outputs": [],
   "source": [
    "#df_ = combined_df[combined_df.translated_content!=\"\"]\n",
    "#extract_text(df_[df_.procurement_id==\"ntp00310764\"].translated_content.iloc[0])"
   ]
  },
  {
   "cell_type": "code",
   "execution_count": null,
   "id": "4202a8e1-49c7-45cf-a8dd-32f2c0443248",
   "metadata": {},
   "outputs": [],
   "source": [
    "#parse_xml_from_bytes"
   ]
  },
  {
   "cell_type": "code",
   "execution_count": 3,
   "id": "0341ffb8-2684-4bd0-9f92-a4a64c446b20",
   "metadata": {
    "tags": []
   },
   "outputs": [
    {
     "data": {
      "text/html": [
       "<div>\n",
       "<style scoped>\n",
       "    .dataframe tbody tr th:only-of-type {\n",
       "        vertical-align: middle;\n",
       "    }\n",
       "\n",
       "    .dataframe tbody tr th {\n",
       "        vertical-align: top;\n",
       "    }\n",
       "\n",
       "    .dataframe thead th {\n",
       "        text-align: right;\n",
       "    }\n",
       "</style>\n",
       "<table border=\"1\" class=\"dataframe\">\n",
       "  <thead>\n",
       "    <tr style=\"text-align: right;\">\n",
       "      <th></th>\n",
       "      <th>procurement_id</th>\n",
       "      <th>doc_name</th>\n",
       "      <th>content</th>\n",
       "      <th>alternative_lang</th>\n",
       "      <th>translated_content</th>\n",
       "    </tr>\n",
       "  </thead>\n",
       "  <tbody>\n",
       "    <tr>\n",
       "      <th>0</th>\n",
       "      <td>ntp10244812</td>\n",
       "      <td>ntp10244812_Publicaciones_oficiales_URI</td>\n",
       "      <td>b'&lt;?xml version=\\'1.0\\' encoding=\\'utf8\\'?&gt;\\n&lt;...</td>\n",
       "      <td></td>\n",
       "      <td></td>\n",
       "    </tr>\n",
       "    <tr>\n",
       "      <th>1</th>\n",
       "      <td>ntp10244812</td>\n",
       "      <td>ntp10244812_ValidNoticeInfo_AdditionalPublicat...</td>\n",
       "      <td>b'&lt;?xml version=\\'1.0\\' encoding=\\'utf8\\'?&gt;\\n&lt;...</td>\n",
       "      <td></td>\n",
       "      <td></td>\n",
       "    </tr>\n",
       "    <tr>\n",
       "      <th>2</th>\n",
       "      <td>ntp01065327</td>\n",
       "      <td>ntp01065327_Pliego_clausulas_administrativas_URI</td>\n",
       "      <td>b'&lt;?xml version=\\'1.0\\' encoding=\\'utf8\\'?&gt;\\n&lt;...</td>\n",
       "      <td></td>\n",
       "      <td></td>\n",
       "    </tr>\n",
       "    <tr>\n",
       "      <th>3</th>\n",
       "      <td>ntp01065327</td>\n",
       "      <td>ntp01065327_Publicaciones_oficiales_URI:0</td>\n",
       "      <td>b\"&lt;?xml version='1.0' encoding='utf8'?&gt;\\n&lt;docu...</td>\n",
       "      <td></td>\n",
       "      <td></td>\n",
       "    </tr>\n",
       "    <tr>\n",
       "      <th>4</th>\n",
       "      <td>ntp01065327</td>\n",
       "      <td>ntp01065327_Pliego_Prescripciones_tecnicas_URI</td>\n",
       "      <td>b\"&lt;?xml version='1.0' encoding='utf8'?&gt;\\n&lt;docu...</td>\n",
       "      <td></td>\n",
       "      <td></td>\n",
       "    </tr>\n",
       "    <tr>\n",
       "      <th>...</th>\n",
       "      <td>...</td>\n",
       "      <td>...</td>\n",
       "      <td>...</td>\n",
       "      <td>...</td>\n",
       "      <td>...</td>\n",
       "    </tr>\n",
       "    <tr>\n",
       "      <th>251995</th>\n",
       "      <td>ntp00988283</td>\n",
       "      <td>ntp00988283_Pliego_Prescripciones_tecnicas_URI</td>\n",
       "      <td>b\"&lt;?xml version='1.0' encoding='utf8'?&gt;\\n&lt;docu...</td>\n",
       "      <td></td>\n",
       "      <td></td>\n",
       "    </tr>\n",
       "    <tr>\n",
       "      <th>251996</th>\n",
       "      <td>ntp00988283</td>\n",
       "      <td>ntp00988283_Anexos_pliegos_URI:2</td>\n",
       "      <td>b\"&lt;?xml version='1.0' encoding='utf8'?&gt;\\n&lt;docu...</td>\n",
       "      <td></td>\n",
       "      <td></td>\n",
       "    </tr>\n",
       "    <tr>\n",
       "      <th>251997</th>\n",
       "      <td>ntp00988283</td>\n",
       "      <td>ntp00988283_Anexos_pliegos_URI:1</td>\n",
       "      <td>b'&lt;?xml version=\\'1.0\\' encoding=\\'utf8\\'?&gt;\\n&lt;...</td>\n",
       "      <td></td>\n",
       "      <td></td>\n",
       "    </tr>\n",
       "    <tr>\n",
       "      <th>251998</th>\n",
       "      <td>ntp00988283</td>\n",
       "      <td>ntp00988283_Anexos_pliegos_URI:0</td>\n",
       "      <td>b\"&lt;?xml version='1.0' encoding='utf8'?&gt;\\n&lt;docu...</td>\n",
       "      <td></td>\n",
       "      <td></td>\n",
       "    </tr>\n",
       "    <tr>\n",
       "      <th>251999</th>\n",
       "      <td>ntp00988283</td>\n",
       "      <td>ntp00988283_Pliego_clausulas_administrativas_URI</td>\n",
       "      <td>b'&lt;?xml version=\\'1.0\\' encoding=\\'utf8\\'?&gt;\\n&lt;...</td>\n",
       "      <td></td>\n",
       "      <td></td>\n",
       "    </tr>\n",
       "  </tbody>\n",
       "</table>\n",
       "<p>252000 rows × 5 columns</p>\n",
       "</div>"
      ],
      "text/plain": [
       "       procurement_id                                           doc_name  \\\n",
       "0         ntp10244812            ntp10244812_Publicaciones_oficiales_URI   \n",
       "1         ntp10244812  ntp10244812_ValidNoticeInfo_AdditionalPublicat...   \n",
       "2         ntp01065327   ntp01065327_Pliego_clausulas_administrativas_URI   \n",
       "3         ntp01065327          ntp01065327_Publicaciones_oficiales_URI:0   \n",
       "4         ntp01065327     ntp01065327_Pliego_Prescripciones_tecnicas_URI   \n",
       "...               ...                                                ...   \n",
       "251995    ntp00988283     ntp00988283_Pliego_Prescripciones_tecnicas_URI   \n",
       "251996    ntp00988283                   ntp00988283_Anexos_pliegos_URI:2   \n",
       "251997    ntp00988283                   ntp00988283_Anexos_pliegos_URI:1   \n",
       "251998    ntp00988283                   ntp00988283_Anexos_pliegos_URI:0   \n",
       "251999    ntp00988283   ntp00988283_Pliego_clausulas_administrativas_URI   \n",
       "\n",
       "                                                  content alternative_lang  \\\n",
       "0       b'<?xml version=\\'1.0\\' encoding=\\'utf8\\'?>\\n<...                    \n",
       "1       b'<?xml version=\\'1.0\\' encoding=\\'utf8\\'?>\\n<...                    \n",
       "2       b'<?xml version=\\'1.0\\' encoding=\\'utf8\\'?>\\n<...                    \n",
       "3       b\"<?xml version='1.0' encoding='utf8'?>\\n<docu...                    \n",
       "4       b\"<?xml version='1.0' encoding='utf8'?>\\n<docu...                    \n",
       "...                                                   ...              ...   \n",
       "251995  b\"<?xml version='1.0' encoding='utf8'?>\\n<docu...                    \n",
       "251996  b\"<?xml version='1.0' encoding='utf8'?>\\n<docu...                    \n",
       "251997  b'<?xml version=\\'1.0\\' encoding=\\'utf8\\'?>\\n<...                    \n",
       "251998  b\"<?xml version='1.0' encoding='utf8'?>\\n<docu...                    \n",
       "251999  b'<?xml version=\\'1.0\\' encoding=\\'utf8\\'?>\\n<...                    \n",
       "\n",
       "       translated_content  \n",
       "0                          \n",
       "1                          \n",
       "2                          \n",
       "3                          \n",
       "4                          \n",
       "...                   ...  \n",
       "251995                     \n",
       "251996                     \n",
       "251997                     \n",
       "251998                     \n",
       "251999                     \n",
       "\n",
       "[252000 rows x 5 columns]"
      ]
     },
     "execution_count": 3,
     "metadata": {},
     "output_type": "execute_result"
    }
   ],
   "source": [
    "df = pd.read_parquet(\"/export/data_ml4ds/NextProcurement/PLACE/pdf2txt_ca_translated/procurements_file_2_containing_252000_docs_mark_fixed.parq\")\n",
    "df"
   ]
  },
  {
   "cell_type": "code",
   "execution_count": 4,
   "id": "1884961b-130b-446a-8db0-c2c10f6abef2",
   "metadata": {
    "tags": []
   },
   "outputs": [
    {
     "data": {
      "text/html": [
       "<div>\n",
       "<style scoped>\n",
       "    .dataframe tbody tr th:only-of-type {\n",
       "        vertical-align: middle;\n",
       "    }\n",
       "\n",
       "    .dataframe tbody tr th {\n",
       "        vertical-align: top;\n",
       "    }\n",
       "\n",
       "    .dataframe thead th {\n",
       "        text-align: right;\n",
       "    }\n",
       "</style>\n",
       "<table border=\"1\" class=\"dataframe\">\n",
       "  <thead>\n",
       "    <tr style=\"text-align: right;\">\n",
       "      <th></th>\n",
       "      <th>procurement_id</th>\n",
       "      <th>doc_name</th>\n",
       "      <th>content</th>\n",
       "      <th>alternative_lang</th>\n",
       "      <th>translated_content</th>\n",
       "    </tr>\n",
       "  </thead>\n",
       "  <tbody>\n",
       "  </tbody>\n",
       "</table>\n",
       "</div>"
      ],
      "text/plain": [
       "Empty DataFrame\n",
       "Columns: [procurement_id, doc_name, content, alternative_lang, translated_content]\n",
       "Index: []"
      ]
     },
     "execution_count": 4,
     "metadata": {},
     "output_type": "execute_result"
    }
   ],
   "source": [
    "df[df.translated_content!=\"\"]"
   ]
  },
  {
   "cell_type": "code",
   "execution_count": 9,
   "id": "19088fe6",
   "metadata": {},
   "outputs": [
    {
     "name": "stderr",
     "output_type": "stream",
     "text": [
      "Procesando archivos:   0%|          | 0/17 [00:00<?, ?it/s]"
     ]
    },
    {
     "name": "stdout",
     "output_type": "stream",
     "text": [
      "Index(['procurement_id', 'doc_name', 'content', 'alternative_lang',\n",
      "       'translated_content', 'extracted', 'translated'],\n",
      "      dtype='object')\n",
      "Archivo procesado: /export/data_ml4ds/NextProcurement/PLACE/pdf2txt_ca_translated/procurements_file_15_containing_252064_docs_mark_fixed.parq en 33.9436149597168 segundos\n"
     ]
    },
    {
     "name": "stderr",
     "output_type": "stream",
     "text": [
      "Procesando archivos:   6%|▌         | 1/17 [01:15<20:04, 75.28s/it]"
     ]
    },
    {
     "name": "stdout",
     "output_type": "stream",
     "text": [
      "Index(['procurement_id', 'doc_name', 'content', 'alternative_lang',\n",
      "       'translated_content', 'extracted', 'translated'],\n",
      "      dtype='object')\n",
      "Archivo procesado: /export/data_ml4ds/NextProcurement/PLACE/pdf2txt_ca_translated/procurements_file_2_containing_252000_docs_mark_fixed.parq en 33.879493713378906 segundos\n"
     ]
    },
    {
     "name": "stderr",
     "output_type": "stream",
     "text": [
      "Procesando archivos:  12%|█▏        | 2/17 [03:09<24:31, 98.11s/it]"
     ]
    },
    {
     "name": "stdout",
     "output_type": "stream",
     "text": [
      "Index(['procurement_id', 'doc_name', 'content', 'alternative_lang',\n",
      "       'translated_content', 'extracted', 'translated'],\n",
      "      dtype='object')\n",
      "Archivo procesado: /export/data_ml4ds/NextProcurement/PLACE/pdf2txt_ca_translated/procurements_file_7_containing_250227_docs_mark_fixed.parq en 31.407538175582886 segundos\n"
     ]
    },
    {
     "name": "stderr",
     "output_type": "stream",
     "text": [
      "Procesando archivos:  18%|█▊        | 3/17 [04:59<24:10, 103.57s/it]"
     ]
    },
    {
     "name": "stdout",
     "output_type": "stream",
     "text": [
      "Index(['procurement_id', 'doc_name', 'content', 'alternative_lang',\n",
      "       'translated_content', 'extracted', 'translated'],\n",
      "      dtype='object')\n",
      "Archivo procesado: /export/data_ml4ds/NextProcurement/PLACE/pdf2txt_ca_translated/procurements_file_10_containing_251208_docs_mark_fixed.parq en 29.56356930732727 segundos\n"
     ]
    },
    {
     "name": "stderr",
     "output_type": "stream",
     "text": [
      "Procesando archivos:  24%|██▎       | 4/17 [06:41<22:17, 102.87s/it]"
     ]
    },
    {
     "name": "stdout",
     "output_type": "stream",
     "text": [
      "Index(['procurement_id', 'doc_name', 'content', 'alternative_lang',\n",
      "       'translated_content', 'extracted', 'translated'],\n",
      "      dtype='object')\n",
      "Archivo procesado: /export/data_ml4ds/NextProcurement/PLACE/pdf2txt_ca_translated/procurements_file_11_containing_252661_docs_mark_fixed.parq en 30.839030504226685 segundos\n"
     ]
    },
    {
     "name": "stderr",
     "output_type": "stream",
     "text": [
      "Procesando archivos:  29%|██▉       | 5/17 [08:23<20:30, 102.50s/it]"
     ]
    },
    {
     "name": "stdout",
     "output_type": "stream",
     "text": [
      "Index(['procurement_id', 'doc_name', 'content', 'alternative_lang',\n",
      "       'translated_content', 'extracted', 'translated'],\n",
      "      dtype='object')\n",
      "Archivo procesado: /export/data_ml4ds/NextProcurement/PLACE/pdf2txt_ca_translated/procurements_file_5_containing_250098_docs_mark_fixed.parq en 30.322396755218506 segundos\n"
     ]
    },
    {
     "name": "stderr",
     "output_type": "stream",
     "text": [
      "Procesando archivos:  35%|███▌      | 6/17 [10:07<18:53, 103.03s/it]"
     ]
    },
    {
     "name": "stdout",
     "output_type": "stream",
     "text": [
      "Index(['procurement_id', 'doc_name', 'content', 'alternative_lang',\n",
      "       'translated_content', 'extracted', 'translated'],\n",
      "      dtype='object')\n",
      "Archivo procesado: /export/data_ml4ds/NextProcurement/PLACE/pdf2txt_ca_translated/procurements_file_13_containing_250951_docs_mark_fixed.parq en 29.892966985702515 segundos\n"
     ]
    },
    {
     "name": "stderr",
     "output_type": "stream",
     "text": [
      "Procesando archivos:  41%|████      | 7/17 [11:48<17:04, 102.48s/it]"
     ]
    },
    {
     "name": "stdout",
     "output_type": "stream",
     "text": [
      "Index(['procurement_id', 'doc_name', 'content', 'alternative_lang',\n",
      "       'translated_content', 'extracted', 'translated'],\n",
      "      dtype='object')\n",
      "Archivo procesado: /export/data_ml4ds/NextProcurement/PLACE/pdf2txt_ca_translated/procurements_file_8_containing_251687_docs_mark_fixed.parq en 30.61501455307007 segundos\n"
     ]
    },
    {
     "name": "stderr",
     "output_type": "stream",
     "text": [
      "Procesando archivos:  47%|████▋     | 8/17 [12:59<13:52, 92.51s/it] "
     ]
    },
    {
     "name": "stdout",
     "output_type": "stream",
     "text": [
      "Index(['procurement_id', 'doc_name', 'content', 'alternative_lang',\n",
      "       'translated_content', 'extracted', 'translated'],\n",
      "      dtype='object')\n",
      "Archivo procesado: /export/data_ml4ds/NextProcurement/PLACE/pdf2txt_ca_translated/procurements_file_1_containing_251067_docs_mark_fixed.parq en 31.370625495910645 segundos\n"
     ]
    },
    {
     "name": "stderr",
     "output_type": "stream",
     "text": [
      "Procesando archivos:  53%|█████▎    | 9/17 [14:11<11:29, 86.13s/it]"
     ]
    },
    {
     "name": "stdout",
     "output_type": "stream",
     "text": [
      "Index(['procurement_id', 'doc_name', 'content', 'alternative_lang',\n",
      "       'translated_content', 'extracted', 'translated'],\n",
      "      dtype='object')\n",
      "Archivo procesado: /export/data_ml4ds/NextProcurement/PLACE/pdf2txt_ca_translated/procurements_file_12_containing_252483_docs_mark_fixed.parq en 29.568071603775024 segundos\n"
     ]
    },
    {
     "name": "stderr",
     "output_type": "stream",
     "text": [
      "Procesando archivos:  59%|█████▉    | 10/17 [15:50<10:30, 90.03s/it]"
     ]
    },
    {
     "name": "stdout",
     "output_type": "stream",
     "text": [
      "Index(['procurement_id', 'doc_name', 'content', 'alternative_lang',\n",
      "       'translated_content', 'extracted', 'translated'],\n",
      "      dtype='object')\n",
      "Archivo procesado: /export/data_ml4ds/NextProcurement/PLACE/pdf2txt_ca_translated/procurements_file_14_containing_250186_docs_mark_fixed.parq en 31.172553062438965 segundos\n"
     ]
    },
    {
     "name": "stderr",
     "output_type": "stream",
     "text": [
      "Procesando archivos:  65%|██████▍   | 11/17 [17:00<08:23, 83.96s/it]"
     ]
    },
    {
     "name": "stdout",
     "output_type": "stream",
     "text": [
      "Index(['procurement_id', 'doc_name', 'content', 'extracted', 'translated'], dtype='object')\n",
      "\"['alternative_lang'] not in index\"\n",
      "Archivo procesado: /export/data_ml4ds/NextProcurement/PLACE/pdf2txt_ca_translated/procurements_file_9_containing_250416_docs_mark_fixed.parq en 36.69044852256775 segundos\n"
     ]
    },
    {
     "name": "stderr",
     "output_type": "stream",
     "text": [
      "Procesando archivos:  71%|███████   | 12/17 [18:52<07:42, 92.41s/it]"
     ]
    },
    {
     "name": "stdout",
     "output_type": "stream",
     "text": [
      "Index(['procurement_id', 'doc_name', 'content', 'alternative_lang',\n",
      "       'translated_content', 'extracted', 'translated'],\n",
      "      dtype='object')\n",
      "Archivo procesado: /export/data_ml4ds/NextProcurement/PLACE/pdf2txt_ca_translated/procurements_file_6_containing_251105_docs_mark_fixed.parq en 30.26387643814087 segundos\n"
     ]
    },
    {
     "name": "stderr",
     "output_type": "stream",
     "text": [
      "Procesando archivos:  76%|███████▋  | 13/17 [20:20<06:04, 91.15s/it]"
     ]
    },
    {
     "name": "stdout",
     "output_type": "stream",
     "text": [
      "Index(['procurement_id', 'doc_name', 'content', 'alternative_lang',\n",
      "       'translated_content', 'extracted', 'translated'],\n",
      "      dtype='object')\n",
      "Archivo procesado: /export/data_ml4ds/NextProcurement/PLACE/pdf2txt_ca_translated/procurements_file_4_containing_249935_docs_mark_fixed.parq en 30.655425548553467 segundos\n"
     ]
    },
    {
     "name": "stderr",
     "output_type": "stream",
     "text": [
      "Procesando archivos:  82%|████████▏ | 14/17 [21:34<04:17, 85.76s/it]"
     ]
    },
    {
     "name": "stdout",
     "output_type": "stream",
     "text": [
      "Index(['procurement_id', 'doc_name', 'content', 'alternative_lang',\n",
      "       'translated_content', 'extracted', 'translated'],\n",
      "      dtype='object')\n",
      "Archivo procesado: /export/data_ml4ds/NextProcurement/PLACE/pdf2txt_ca_translated/procurements_file_0_containing_252077_docs_mark_fixed.parq en 31.667190313339233 segundos\n"
     ]
    },
    {
     "name": "stderr",
     "output_type": "stream",
     "text": [
      "Procesando archivos:  88%|████████▊ | 15/17 [22:58<02:50, 85.28s/it]"
     ]
    },
    {
     "name": "stdout",
     "output_type": "stream",
     "text": [
      "Index(['procurement_id', 'doc_name', 'content', 'alternative_lang',\n",
      "       'translated_content', 'extracted', 'translated'],\n",
      "      dtype='object')\n",
      "Archivo procesado: /export/data_ml4ds/NextProcurement/PLACE/pdf2txt_ca_translated/procurements_file_3_containing_254088_docs_mark_fixed.parq en 30.490885257720947 segundos\n"
     ]
    },
    {
     "name": "stderr",
     "output_type": "stream",
     "text": [
      "Procesando archivos:  94%|█████████▍| 16/17 [24:21<01:24, 84.77s/it]/tmp/ipykernel_2804227/202573343.py:31: SettingWithCopyWarning: \n",
      "A value is trying to be set on a copy of a slice from a DataFrame.\n",
      "Try using .loc[row_indexer,col_indexer] = value instead\n",
      "\n",
      "See the caveats in the documentation: https://pandas.pydata.org/pandas-docs/stable/user_guide/indexing.html#returning-a-view-versus-a-copy\n",
      "  df_cat['extracted'] = df_cat['translated_content'].apply(extract_text)\n",
      "/tmp/ipykernel_2804227/202573343.py:32: SettingWithCopyWarning: \n",
      "A value is trying to be set on a copy of a slice from a DataFrame.\n",
      "Try using .loc[row_indexer,col_indexer] = value instead\n",
      "\n",
      "See the caveats in the documentation: https://pandas.pydata.org/pandas-docs/stable/user_guide/indexing.html#returning-a-view-versus-a-copy\n",
      "  df_cat[\"translated\"] = [\"yes\"] * len(df_cat)\n",
      "/tmp/ipykernel_2804227/202573343.py:34: SettingWithCopyWarning: \n",
      "A value is trying to be set on a copy of a slice from a DataFrame.\n",
      "Try using .loc[row_indexer,col_indexer] = value instead\n",
      "\n",
      "See the caveats in the documentation: https://pandas.pydata.org/pandas-docs/stable/user_guide/indexing.html#returning-a-view-versus-a-copy\n",
      "  df_no_cat['extracted'] = df_no_cat['content'].apply(parse_xml_from_bytes)\n",
      "/tmp/ipykernel_2804227/202573343.py:35: SettingWithCopyWarning: \n",
      "A value is trying to be set on a copy of a slice from a DataFrame.\n",
      "Try using .loc[row_indexer,col_indexer] = value instead\n",
      "\n",
      "See the caveats in the documentation: https://pandas.pydata.org/pandas-docs/stable/user_guide/indexing.html#returning-a-view-versus-a-copy\n",
      "  df_no_cat[\"translated\"] = [\"no\"] * len(df_no_cat)\n"
     ]
    },
    {
     "name": "stdout",
     "output_type": "stream",
     "text": [
      "Index(['procurement_id', 'doc_name', 'content', 'alternative_lang',\n",
      "       'translated_content', 'extracted', 'translated'],\n",
      "      dtype='object')\n",
      "Archivo procesado: /export/data_ml4ds/NextProcurement/PLACE/pdf2txt_ca_translated/procurements_file_16_containing_92602_docs_mark_fixed.parq en 11.316915512084961 segundos\n"
     ]
    },
    {
     "name": "stderr",
     "output_type": "stream",
     "text": [
      "Procesando archivos: 100%|██████████| 17/17 [24:50<00:00, 87.71s/it]\n"
     ]
    }
   ],
   "source": [
    "# Ruta donde se encuentran los archivos Parquet originales a leer\n",
    "path = '/export/data_ml4ds/NextProcurement/PLACE/pdf2txt_ca_translated'\n",
    "# Ruta donde se guardarán los archivos Parquet procesados\n",
    "output_path = '/export/data_ml4ds/NextProcurement/PLACE/BSC_procesados_ca'\n",
    "\n",
    "# Crear la lista de todos los archivos .parq en el directorio especificado\n",
    "all_files = [os.path.join(path, f) for f in os.listdir(path) if f.endswith('.parq')]\n",
    "\n",
    "palabras_clave = ['tecnicas']\n",
    "# Expresión regular para identificar palabra clave\n",
    "regex = '|'.join(palabras_clave)\n",
    "\n",
    "# Usar tqdm en el bucle externo para ver el progreso en el procesamiento de archivos\n",
    "for file in tqdm(all_files, desc=\"Procesando archivos\"):\n",
    "    # Leer el archivo Parquet\n",
    "    df = pd.read_parquet(file)\n",
    "\n",
    "    start_time = time.time()\n",
    "    # Filtrado del df para filas donde la columna 'doc_name' contenga palabra clave\n",
    "    df = df[df['doc_name'].str.contains(regex, na=False, case=False)]\n",
    "    # Añadir una columna para identificar secciones del xml y meterlo en una columna llamada secciones.\n",
    "    if \"translated_content\" in df.columns:\n",
    "        #df['extracted_tags'] = df['translated_content'].apply(extract_all_xml_tags)\n",
    "        #df['texto_heading'] = df['translated_content'].apply(extract_heading_text)\n",
    "        \n",
    "        df_cat = df[(df['translated_content'] != \"\") & (pd.notna(df['translated_content']))]\n",
    "        indices_in_df_cat = df_cat.index\n",
    "        df_no_cat = df[~df.index.isin(indices_in_df_cat)] # Filter df to get rows that are not in df_cat\n",
    "\n",
    "        \n",
    "        df_cat['extracted'] = df_cat['translated_content'].apply(extract_text)\n",
    "        df_cat[\"translated\"] = [\"yes\"] * len(df_cat)\n",
    "        \n",
    "        df_no_cat['extracted'] = df_no_cat['content'].apply(parse_xml_from_bytes)\n",
    "        df_no_cat[\"translated\"] = [\"no\"] * len(df_no_cat)\n",
    "        df = pd.concat([df_cat,df_no_cat])\n",
    "    else:\n",
    "        #df['extracted_tags'] = df['content'].apply(extract_all_xml_tags)\n",
    "        #df['texto_heading'] = df['content'].apply(extract_heading_text)\n",
    "        df['extracted'] = df['content'].apply(parse_xml_from_bytes)\n",
    "        df[\"translated\"] = [\"no\"] * len(df)\n",
    "        \n",
    "    # Filtrar las filas donde la lista 'texto_heading' está vacía\n",
    "    #df = df[df['texto_heading'].map(len) > 0]\n",
    "\n",
    "    # Usar tqdm en el apply para ver el progreso del cálculo de embeddings\n",
    "    #tqdm.pandas(desc=\"Calculando embeddings\")\n",
    "    #df['embeddings_heading'] = df['texto_heading'].progress_apply(calculate_embedding)\n",
    "    print(df.columns)\n",
    "    try:\n",
    "        df = df[['procurement_id', 'doc_name', 'extracted', 'alternative_lang', 'translated']]#'embeddings_heading''extracted_tags', 'texto_heading', \"translated_content\"\n",
    "    except Exception as e:\n",
    "        print(e)\n",
    "        df = df[['procurement_id', 'doc_name', 'extracted','translated']]#'embeddings_heading''extracted_tags', 'texto_heading', \"translated_content\"\n",
    "\n",
    "    end_time = time.time()\n",
    "    print(f\"Archivo procesado: {file} en {end_time - start_time} segundos\")\n",
    "    \n",
    "    # Construir el nombre del nuevo archivo conservando el nombre original pero cambiando la ruta\n",
    "    new_file_path = os.path.join(output_path, os.path.basename(file))\n",
    "    # Guardar el DataFrame en la nueva ruta\n",
    "    df.to_parquet(new_file_path)"
   ]
  }
 ],
 "metadata": {
  "kernelspec": {
   "display_name": "Python 3 (ipykernel)",
   "language": "python",
   "name": "python3"
  },
  "language_info": {
   "codemirror_mode": {
    "name": "ipython",
    "version": 3
   },
   "file_extension": ".py",
   "mimetype": "text/x-python",
   "name": "python",
   "nbconvert_exporter": "python",
   "pygments_lexer": "ipython3",
   "version": "3.10.11"
  }
 },
 "nbformat": 4,
 "nbformat_minor": 5
}
