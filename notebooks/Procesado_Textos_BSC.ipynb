{
 "cells": [
  {
   "cell_type": "code",
   "execution_count": 1,
   "id": "9730fd2b",
   "metadata": {},
   "outputs": [],
   "source": [
    "import os\n",
    "import pandas as pd\n",
    "from tqdm import tqdm \n",
    "#from sentence_transformers import SentenceTransformer\n",
    "import time\n",
    "from lxml import etree\n",
    "import pathlib\n",
    "import re\n",
    "from bs4 import BeautifulSoup\n",
    "import time"
   ]
  },
  {
   "cell_type": "code",
   "execution_count": 2,
   "id": "c6c725ac",
   "metadata": {},
   "outputs": [],
   "source": [
    "#model = SentenceTransformer('sentence-transformers/paraphrase-multilingual-MiniLM-L12-v2')"
   ]
  },
  {
   "cell_type": "code",
   "execution_count": 3,
   "id": "4249e7ca",
   "metadata": {},
   "outputs": [],
   "source": [
    "def calculate_embedding(text_list):\n",
    "    return [model.encode(text) for text in text_list]\n",
    "\n",
    "def extract_heading_text(xml_content):\n",
    "    try:\n",
    "        # Parsear el contenido XML para crear un árbol de elementos\n",
    "        root = etree.fromstring(xml_content)\n",
    "        \n",
    "        # Lista para guardar textos de las etiquetas 'heading'\n",
    "        heading_texts = []        \n",
    "        # Recorrer todos los elementos y extraer textos de las etiquetas 'heading'\n",
    "        for element in root.iter('heading'):\n",
    "            # Agregar el texto de la etiqueta 'heading' a la lista\n",
    "            heading_texts.append(element.text.strip() if element.text else \"\")\n",
    "        \n",
    "        return heading_texts\n",
    "    except etree.XMLSyntaxError:\n",
    "        print(\"Error al parsear xml\")\n",
    "        return []  \n",
    "    \n",
    "def extract_all_xml_tags(xml_content):\n",
    "    try:\n",
    "        # Parsear el contenido XML para crear un árbol de elementos\n",
    "        root = etree.fromstring(xml_content)\n",
    "        # Inicializar una lista para guardar solo los nombres de las etiquetas\n",
    "        all_tags = []\n",
    "        # Recorrer todos los elementos en el árbol XML\n",
    "        for element in root.iter():\n",
    "            all_tags.append(element.tag)\n",
    "    \n",
    "        return all_tags\n",
    "    \n",
    "    except etree.XMLSyntaxError:\n",
    "        print(\"Error al procesar\")\n",
    "        return []"
   ]
  },
  {
   "cell_type": "code",
   "execution_count": 4,
   "id": "0116a731-2aae-497f-b923-659b3fea0a3b",
   "metadata": {
    "tags": []
   },
   "outputs": [],
   "source": [
    "from lxml import etree\n",
    "def parse_xml_from_bytes(data_bytes):\n",
    "    try:\n",
    "        # Parsear el XML directamente desde bytes\n",
    "        root = etree.fromstring(data_bytes)\n",
    "        # Para extraer todo el texto concatenado de los elementos XML\n",
    "        return ''.join(root.xpath('//text()'))\n",
    "    except Exception as e:\n",
    "        print(f\"Error al parsear XML: {e}\")\n",
    "        return None"
   ]
  },
  {
   "cell_type": "code",
   "execution_count": 5,
   "id": "e14ac584-3420-48d2-8287-864a35e5273b",
   "metadata": {
    "tags": []
   },
   "outputs": [],
   "source": [
    "import re\n",
    "import xml.etree.ElementTree as ET\n",
    "\n",
    "def extract_text(xml_string):\n",
    "    # Remove the initial double quotes and escaped newlines\n",
    "    xml_string = xml_string.strip('\"').replace('\\\\n', '')\n",
    "    \n",
    "    # Replace double double quotes with single double quotes\n",
    "    xml_string = xml_string.replace('\"\"', '\"')\n",
    "    \n",
    "    # Use regex to fix XML declaration if it's malformed\n",
    "    xml_string = re.sub(r'(<\\?xml[^>]+>)', r'\\1', xml_string)\n",
    "    \n",
    "    # Parse XML\n",
    "    root = ET.fromstring(xml_string)\n",
    "    \n",
    "    # Extract text from all elements\n",
    "    texts = []\n",
    "    for elem in root.iter():\n",
    "        if elem.text:\n",
    "            texts.append(elem.text.strip())\n",
    "    \n",
    "    # Join all extracted texts with spaces\n",
    "    extracted_text = ' '.join(texts)\n",
    "    return extracted_text"
   ]
  },
  {
   "cell_type": "code",
   "execution_count": 7,
   "id": "19088fe6",
   "metadata": {},
   "outputs": [
    {
     "name": "stderr",
     "output_type": "stream",
     "text": [
      "  0%|          | 0/17 [00:00<?, ?it/s]/tmp/ipykernel_4023695/1565256794.py:27: SettingWithCopyWarning: \n",
      "A value is trying to be set on a copy of a slice from a DataFrame.\n",
      "Try using .loc[row_indexer,col_indexer] = value instead\n",
      "\n",
      "See the caveats in the documentation: https://pandas.pydata.org/pandas-docs/stable/user_guide/indexing.html#returning-a-view-versus-a-copy\n",
      "  df_translated['extracted'] = df_translated['translated_content'].apply(extract_text)\n",
      "/tmp/ipykernel_4023695/1565256794.py:28: SettingWithCopyWarning: \n",
      "A value is trying to be set on a copy of a slice from a DataFrame.\n",
      "Try using .loc[row_indexer,col_indexer] = value instead\n",
      "\n",
      "See the caveats in the documentation: https://pandas.pydata.org/pandas-docs/stable/user_guide/indexing.html#returning-a-view-versus-a-copy\n",
      "  df_translated[\"translated\"] = [\"yes\"] * len(df_translated)\n"
     ]
    },
    {
     "name": "stdout",
     "output_type": "stream",
     "text": [
      "Adding 31380 new rows to final df\n",
      "Archivo procesado: /export/data_ml4ds/NextProcurement/PLACE/Septiembre2024/procurements_file_11_containing_252661_docs_mark_fixed.parq en 35.400670289993286 segundos\n"
     ]
    },
    {
     "name": "stderr",
     "output_type": "stream",
     "text": [
      "  6%|▌         | 1/17 [03:15<52:12, 195.77s/it]/tmp/ipykernel_4023695/1565256794.py:27: SettingWithCopyWarning: \n",
      "A value is trying to be set on a copy of a slice from a DataFrame.\n",
      "Try using .loc[row_indexer,col_indexer] = value instead\n",
      "\n",
      "See the caveats in the documentation: https://pandas.pydata.org/pandas-docs/stable/user_guide/indexing.html#returning-a-view-versus-a-copy\n",
      "  df_translated['extracted'] = df_translated['translated_content'].apply(extract_text)\n",
      "/tmp/ipykernel_4023695/1565256794.py:28: SettingWithCopyWarning: \n",
      "A value is trying to be set on a copy of a slice from a DataFrame.\n",
      "Try using .loc[row_indexer,col_indexer] = value instead\n",
      "\n",
      "See the caveats in the documentation: https://pandas.pydata.org/pandas-docs/stable/user_guide/indexing.html#returning-a-view-versus-a-copy\n",
      "  df_translated[\"translated\"] = [\"yes\"] * len(df_translated)\n"
     ]
    },
    {
     "name": "stdout",
     "output_type": "stream",
     "text": [
      "Adding 31441 new rows to final df\n",
      "Archivo procesado: /export/data_ml4ds/NextProcurement/PLACE/Septiembre2024/procurements_file_13_containing_250951_docs_mark_fixed.parq en 39.07849717140198 segundos\n"
     ]
    },
    {
     "name": "stderr",
     "output_type": "stream",
     "text": [
      " 12%|█▏        | 2/17 [06:54<52:17, 209.17s/it]/tmp/ipykernel_4023695/1565256794.py:27: SettingWithCopyWarning: \n",
      "A value is trying to be set on a copy of a slice from a DataFrame.\n",
      "Try using .loc[row_indexer,col_indexer] = value instead\n",
      "\n",
      "See the caveats in the documentation: https://pandas.pydata.org/pandas-docs/stable/user_guide/indexing.html#returning-a-view-versus-a-copy\n",
      "  df_translated['extracted'] = df_translated['translated_content'].apply(extract_text)\n",
      "/tmp/ipykernel_4023695/1565256794.py:28: SettingWithCopyWarning: \n",
      "A value is trying to be set on a copy of a slice from a DataFrame.\n",
      "Try using .loc[row_indexer,col_indexer] = value instead\n",
      "\n",
      "See the caveats in the documentation: https://pandas.pydata.org/pandas-docs/stable/user_guide/indexing.html#returning-a-view-versus-a-copy\n",
      "  df_translated[\"translated\"] = [\"yes\"] * len(df_translated)\n"
     ]
    },
    {
     "name": "stdout",
     "output_type": "stream",
     "text": [
      "Adding 31306 new rows to final df\n",
      "Archivo procesado: /export/data_ml4ds/NextProcurement/PLACE/Septiembre2024/procurements_file_5_containing_250098_docs_mark_fixed.parq en 38.491589307785034 segundos\n"
     ]
    },
    {
     "name": "stderr",
     "output_type": "stream",
     "text": [
      " 18%|█▊        | 3/17 [10:36<50:11, 215.11s/it]/tmp/ipykernel_4023695/1565256794.py:27: SettingWithCopyWarning: \n",
      "A value is trying to be set on a copy of a slice from a DataFrame.\n",
      "Try using .loc[row_indexer,col_indexer] = value instead\n",
      "\n",
      "See the caveats in the documentation: https://pandas.pydata.org/pandas-docs/stable/user_guide/indexing.html#returning-a-view-versus-a-copy\n",
      "  df_translated['extracted'] = df_translated['translated_content'].apply(extract_text)\n",
      "/tmp/ipykernel_4023695/1565256794.py:28: SettingWithCopyWarning: \n",
      "A value is trying to be set on a copy of a slice from a DataFrame.\n",
      "Try using .loc[row_indexer,col_indexer] = value instead\n",
      "\n",
      "See the caveats in the documentation: https://pandas.pydata.org/pandas-docs/stable/user_guide/indexing.html#returning-a-view-versus-a-copy\n",
      "  df_translated[\"translated\"] = [\"yes\"] * len(df_translated)\n"
     ]
    },
    {
     "name": "stdout",
     "output_type": "stream",
     "text": [
      "Adding 31616 new rows to final df\n",
      "Archivo procesado: /export/data_ml4ds/NextProcurement/PLACE/Septiembre2024/procurements_file_15_containing_252064_docs_mark_fixed.parq en 41.5633819103241 segundos\n"
     ]
    },
    {
     "name": "stderr",
     "output_type": "stream",
     "text": [
      " 24%|██▎       | 4/17 [14:25<47:48, 220.67s/it]/tmp/ipykernel_4023695/1565256794.py:27: SettingWithCopyWarning: \n",
      "A value is trying to be set on a copy of a slice from a DataFrame.\n",
      "Try using .loc[row_indexer,col_indexer] = value instead\n",
      "\n",
      "See the caveats in the documentation: https://pandas.pydata.org/pandas-docs/stable/user_guide/indexing.html#returning-a-view-versus-a-copy\n",
      "  df_translated['extracted'] = df_translated['translated_content'].apply(extract_text)\n",
      "/tmp/ipykernel_4023695/1565256794.py:28: SettingWithCopyWarning: \n",
      "A value is trying to be set on a copy of a slice from a DataFrame.\n",
      "Try using .loc[row_indexer,col_indexer] = value instead\n",
      "\n",
      "See the caveats in the documentation: https://pandas.pydata.org/pandas-docs/stable/user_guide/indexing.html#returning-a-view-versus-a-copy\n",
      "  df_translated[\"translated\"] = [\"yes\"] * len(df_translated)\n"
     ]
    },
    {
     "name": "stdout",
     "output_type": "stream",
     "text": [
      "Adding 31682 new rows to final df\n",
      "Archivo procesado: /export/data_ml4ds/NextProcurement/PLACE/Septiembre2024/procurements_file_10_containing_251208_docs_mark_fixed.parq en 40.84538412094116 segundos\n"
     ]
    },
    {
     "name": "stderr",
     "output_type": "stream",
     "text": [
      " 29%|██▉       | 5/17 [18:02<43:51, 219.32s/it]/tmp/ipykernel_4023695/1565256794.py:27: SettingWithCopyWarning: \n",
      "A value is trying to be set on a copy of a slice from a DataFrame.\n",
      "Try using .loc[row_indexer,col_indexer] = value instead\n",
      "\n",
      "See the caveats in the documentation: https://pandas.pydata.org/pandas-docs/stable/user_guide/indexing.html#returning-a-view-versus-a-copy\n",
      "  df_translated['extracted'] = df_translated['translated_content'].apply(extract_text)\n",
      "/tmp/ipykernel_4023695/1565256794.py:28: SettingWithCopyWarning: \n",
      "A value is trying to be set on a copy of a slice from a DataFrame.\n",
      "Try using .loc[row_indexer,col_indexer] = value instead\n",
      "\n",
      "See the caveats in the documentation: https://pandas.pydata.org/pandas-docs/stable/user_guide/indexing.html#returning-a-view-versus-a-copy\n",
      "  df_translated[\"translated\"] = [\"yes\"] * len(df_translated)\n"
     ]
    },
    {
     "name": "stdout",
     "output_type": "stream",
     "text": [
      "Adding 31460 new rows to final df\n",
      "Archivo procesado: /export/data_ml4ds/NextProcurement/PLACE/Septiembre2024/procurements_file_2_containing_252000_docs_mark_fixed.parq en 43.714683294296265 segundos\n"
     ]
    },
    {
     "name": "stderr",
     "output_type": "stream",
     "text": [
      " 35%|███▌      | 6/17 [21:44<40:22, 220.23s/it]/tmp/ipykernel_4023695/1565256794.py:27: SettingWithCopyWarning: \n",
      "A value is trying to be set on a copy of a slice from a DataFrame.\n",
      "Try using .loc[row_indexer,col_indexer] = value instead\n",
      "\n",
      "See the caveats in the documentation: https://pandas.pydata.org/pandas-docs/stable/user_guide/indexing.html#returning-a-view-versus-a-copy\n",
      "  df_translated['extracted'] = df_translated['translated_content'].apply(extract_text)\n",
      "/tmp/ipykernel_4023695/1565256794.py:28: SettingWithCopyWarning: \n",
      "A value is trying to be set on a copy of a slice from a DataFrame.\n",
      "Try using .loc[row_indexer,col_indexer] = value instead\n",
      "\n",
      "See the caveats in the documentation: https://pandas.pydata.org/pandas-docs/stable/user_guide/indexing.html#returning-a-view-versus-a-copy\n",
      "  df_translated[\"translated\"] = [\"yes\"] * len(df_translated)\n"
     ]
    },
    {
     "name": "stdout",
     "output_type": "stream",
     "text": [
      "Adding 31406 new rows to final df\n",
      "Archivo procesado: /export/data_ml4ds/NextProcurement/PLACE/Septiembre2024/procurements_file_7_containing_250227_docs_mark_fixed.parq en 44.209619998931885 segundos\n"
     ]
    },
    {
     "name": "stderr",
     "output_type": "stream",
     "text": [
      " 41%|████      | 7/17 [25:42<37:41, 226.11s/it]/tmp/ipykernel_4023695/1565256794.py:27: SettingWithCopyWarning: \n",
      "A value is trying to be set on a copy of a slice from a DataFrame.\n",
      "Try using .loc[row_indexer,col_indexer] = value instead\n",
      "\n",
      "See the caveats in the documentation: https://pandas.pydata.org/pandas-docs/stable/user_guide/indexing.html#returning-a-view-versus-a-copy\n",
      "  df_translated['extracted'] = df_translated['translated_content'].apply(extract_text)\n",
      "/tmp/ipykernel_4023695/1565256794.py:28: SettingWithCopyWarning: \n",
      "A value is trying to be set on a copy of a slice from a DataFrame.\n",
      "Try using .loc[row_indexer,col_indexer] = value instead\n",
      "\n",
      "See the caveats in the documentation: https://pandas.pydata.org/pandas-docs/stable/user_guide/indexing.html#returning-a-view-versus-a-copy\n",
      "  df_translated[\"translated\"] = [\"yes\"] * len(df_translated)\n"
     ]
    },
    {
     "name": "stdout",
     "output_type": "stream",
     "text": [
      "Adding 31359 new rows to final df\n",
      "Archivo procesado: /export/data_ml4ds/NextProcurement/PLACE/Septiembre2024/procurements_file_4_containing_249935_docs_mark_fixed.parq en 45.181583642959595 segundos\n"
     ]
    },
    {
     "name": "stderr",
     "output_type": "stream",
     "text": [
      " 47%|████▋     | 8/17 [29:24<33:42, 224.77s/it]/tmp/ipykernel_4023695/1565256794.py:27: SettingWithCopyWarning: \n",
      "A value is trying to be set on a copy of a slice from a DataFrame.\n",
      "Try using .loc[row_indexer,col_indexer] = value instead\n",
      "\n",
      "See the caveats in the documentation: https://pandas.pydata.org/pandas-docs/stable/user_guide/indexing.html#returning-a-view-versus-a-copy\n",
      "  df_translated['extracted'] = df_translated['translated_content'].apply(extract_text)\n",
      "/tmp/ipykernel_4023695/1565256794.py:28: SettingWithCopyWarning: \n",
      "A value is trying to be set on a copy of a slice from a DataFrame.\n",
      "Try using .loc[row_indexer,col_indexer] = value instead\n",
      "\n",
      "See the caveats in the documentation: https://pandas.pydata.org/pandas-docs/stable/user_guide/indexing.html#returning-a-view-versus-a-copy\n",
      "  df_translated[\"translated\"] = [\"yes\"] * len(df_translated)\n"
     ]
    },
    {
     "name": "stdout",
     "output_type": "stream",
     "text": [
      "Adding 31474 new rows to final df\n",
      "Archivo procesado: /export/data_ml4ds/NextProcurement/PLACE/Septiembre2024/procurements_file_0_containing_252077_docs_mark_fixed.parq en 44.29508423805237 segundos\n"
     ]
    },
    {
     "name": "stderr",
     "output_type": "stream",
     "text": [
      " 53%|█████▎    | 9/17 [33:05<29:48, 223.54s/it]/tmp/ipykernel_4023695/1565256794.py:27: SettingWithCopyWarning: \n",
      "A value is trying to be set on a copy of a slice from a DataFrame.\n",
      "Try using .loc[row_indexer,col_indexer] = value instead\n",
      "\n",
      "See the caveats in the documentation: https://pandas.pydata.org/pandas-docs/stable/user_guide/indexing.html#returning-a-view-versus-a-copy\n",
      "  df_translated['extracted'] = df_translated['translated_content'].apply(extract_text)\n",
      "/tmp/ipykernel_4023695/1565256794.py:28: SettingWithCopyWarning: \n",
      "A value is trying to be set on a copy of a slice from a DataFrame.\n",
      "Try using .loc[row_indexer,col_indexer] = value instead\n",
      "\n",
      "See the caveats in the documentation: https://pandas.pydata.org/pandas-docs/stable/user_guide/indexing.html#returning-a-view-versus-a-copy\n",
      "  df_translated[\"translated\"] = [\"yes\"] * len(df_translated)\n"
     ]
    },
    {
     "name": "stdout",
     "output_type": "stream",
     "text": [
      "Adding 31525 new rows to final df\n",
      "Archivo procesado: /export/data_ml4ds/NextProcurement/PLACE/Septiembre2024/procurements_file_3_containing_254088_docs_mark_fixed.parq en 44.6764280796051 segundos\n"
     ]
    },
    {
     "name": "stderr",
     "output_type": "stream",
     "text": [
      " 59%|█████▉    | 10/17 [36:48<26:03, 223.33s/it]/tmp/ipykernel_4023695/1565256794.py:27: SettingWithCopyWarning: \n",
      "A value is trying to be set on a copy of a slice from a DataFrame.\n",
      "Try using .loc[row_indexer,col_indexer] = value instead\n",
      "\n",
      "See the caveats in the documentation: https://pandas.pydata.org/pandas-docs/stable/user_guide/indexing.html#returning-a-view-versus-a-copy\n",
      "  df_translated['extracted'] = df_translated['translated_content'].apply(extract_text)\n",
      "/tmp/ipykernel_4023695/1565256794.py:28: SettingWithCopyWarning: \n",
      "A value is trying to be set on a copy of a slice from a DataFrame.\n",
      "Try using .loc[row_indexer,col_indexer] = value instead\n",
      "\n",
      "See the caveats in the documentation: https://pandas.pydata.org/pandas-docs/stable/user_guide/indexing.html#returning-a-view-versus-a-copy\n",
      "  df_translated[\"translated\"] = [\"yes\"] * len(df_translated)\n"
     ]
    },
    {
     "name": "stdout",
     "output_type": "stream",
     "text": [
      "Adding 11771 new rows to final df\n",
      "Archivo procesado: /export/data_ml4ds/NextProcurement/PLACE/Septiembre2024/procurements_file_16_containing_92602_docs_mark_fixed.parq en 17.15683364868164 segundos\n"
     ]
    },
    {
     "name": "stderr",
     "output_type": "stream",
     "text": [
      " 65%|██████▍   | 11/17 [38:12<18:04, 180.74s/it]/tmp/ipykernel_4023695/1565256794.py:27: SettingWithCopyWarning: \n",
      "A value is trying to be set on a copy of a slice from a DataFrame.\n",
      "Try using .loc[row_indexer,col_indexer] = value instead\n",
      "\n",
      "See the caveats in the documentation: https://pandas.pydata.org/pandas-docs/stable/user_guide/indexing.html#returning-a-view-versus-a-copy\n",
      "  df_translated['extracted'] = df_translated['translated_content'].apply(extract_text)\n",
      "/tmp/ipykernel_4023695/1565256794.py:28: SettingWithCopyWarning: \n",
      "A value is trying to be set on a copy of a slice from a DataFrame.\n",
      "Try using .loc[row_indexer,col_indexer] = value instead\n",
      "\n",
      "See the caveats in the documentation: https://pandas.pydata.org/pandas-docs/stable/user_guide/indexing.html#returning-a-view-versus-a-copy\n",
      "  df_translated[\"translated\"] = [\"yes\"] * len(df_translated)\n"
     ]
    },
    {
     "name": "stdout",
     "output_type": "stream",
     "text": [
      "Adding 31533 new rows to final df\n",
      "Archivo procesado: /export/data_ml4ds/NextProcurement/PLACE/Septiembre2024/procurements_file_8_containing_251687_docs_mark_fixed.parq en 44.07130002975464 segundos\n"
     ]
    },
    {
     "name": "stderr",
     "output_type": "stream",
     "text": [
      " 71%|███████   | 12/17 [41:48<15:56, 191.38s/it]/tmp/ipykernel_4023695/1565256794.py:27: SettingWithCopyWarning: \n",
      "A value is trying to be set on a copy of a slice from a DataFrame.\n",
      "Try using .loc[row_indexer,col_indexer] = value instead\n",
      "\n",
      "See the caveats in the documentation: https://pandas.pydata.org/pandas-docs/stable/user_guide/indexing.html#returning-a-view-versus-a-copy\n",
      "  df_translated['extracted'] = df_translated['translated_content'].apply(extract_text)\n",
      "/tmp/ipykernel_4023695/1565256794.py:28: SettingWithCopyWarning: \n",
      "A value is trying to be set on a copy of a slice from a DataFrame.\n",
      "Try using .loc[row_indexer,col_indexer] = value instead\n",
      "\n",
      "See the caveats in the documentation: https://pandas.pydata.org/pandas-docs/stable/user_guide/indexing.html#returning-a-view-versus-a-copy\n",
      "  df_translated[\"translated\"] = [\"yes\"] * len(df_translated)\n"
     ]
    },
    {
     "name": "stdout",
     "output_type": "stream",
     "text": [
      "Adding 31468 new rows to final df\n",
      "Archivo procesado: /export/data_ml4ds/NextProcurement/PLACE/Septiembre2024/procurements_file_14_containing_250186_docs_mark_fixed.parq en 45.82277989387512 segundos\n"
     ]
    },
    {
     "name": "stderr",
     "output_type": "stream",
     "text": [
      " 76%|███████▋  | 13/17 [45:35<13:28, 202.11s/it]/tmp/ipykernel_4023695/1565256794.py:27: SettingWithCopyWarning: \n",
      "A value is trying to be set on a copy of a slice from a DataFrame.\n",
      "Try using .loc[row_indexer,col_indexer] = value instead\n",
      "\n",
      "See the caveats in the documentation: https://pandas.pydata.org/pandas-docs/stable/user_guide/indexing.html#returning-a-view-versus-a-copy\n",
      "  df_translated['extracted'] = df_translated['translated_content'].apply(extract_text)\n",
      "/tmp/ipykernel_4023695/1565256794.py:28: SettingWithCopyWarning: \n",
      "A value is trying to be set on a copy of a slice from a DataFrame.\n",
      "Try using .loc[row_indexer,col_indexer] = value instead\n",
      "\n",
      "See the caveats in the documentation: https://pandas.pydata.org/pandas-docs/stable/user_guide/indexing.html#returning-a-view-versus-a-copy\n",
      "  df_translated[\"translated\"] = [\"yes\"] * len(df_translated)\n"
     ]
    },
    {
     "name": "stdout",
     "output_type": "stream",
     "text": [
      "Adding 31553 new rows to final df\n",
      "Archivo procesado: /export/data_ml4ds/NextProcurement/PLACE/Septiembre2024/procurements_file_1_containing_251067_docs_mark_fixed.parq en 43.31951189041138 segundos\n"
     ]
    },
    {
     "name": "stderr",
     "output_type": "stream",
     "text": [
      " 82%|████████▏ | 14/17 [49:34<10:40, 213.45s/it]/tmp/ipykernel_4023695/1565256794.py:27: SettingWithCopyWarning: \n",
      "A value is trying to be set on a copy of a slice from a DataFrame.\n",
      "Try using .loc[row_indexer,col_indexer] = value instead\n",
      "\n",
      "See the caveats in the documentation: https://pandas.pydata.org/pandas-docs/stable/user_guide/indexing.html#returning-a-view-versus-a-copy\n",
      "  df_translated['extracted'] = df_translated['translated_content'].apply(extract_text)\n",
      "/tmp/ipykernel_4023695/1565256794.py:28: SettingWithCopyWarning: \n",
      "A value is trying to be set on a copy of a slice from a DataFrame.\n",
      "Try using .loc[row_indexer,col_indexer] = value instead\n",
      "\n",
      "See the caveats in the documentation: https://pandas.pydata.org/pandas-docs/stable/user_guide/indexing.html#returning-a-view-versus-a-copy\n",
      "  df_translated[\"translated\"] = [\"yes\"] * len(df_translated)\n"
     ]
    },
    {
     "name": "stdout",
     "output_type": "stream",
     "text": [
      "Adding 31582 new rows to final df\n",
      "Archivo procesado: /export/data_ml4ds/NextProcurement/PLACE/Septiembre2024/procurements_file_12_containing_252483_docs_mark_fixed.parq en 44.20334267616272 segundos\n"
     ]
    },
    {
     "name": "stderr",
     "output_type": "stream",
     "text": [
      " 88%|████████▊ | 15/17 [53:23<07:15, 217.94s/it]"
     ]
    },
    {
     "name": "stdout",
     "output_type": "stream",
     "text": [
      "Adding 4750 new rows to final df\n",
      "Archivo procesado: /export/data_ml4ds/NextProcurement/PLACE/Septiembre2024/procurements_file_9_containing_250416_docs_mark_fixed.parq en 10.61481785774231 segundos\n"
     ]
    },
    {
     "name": "stderr",
     "output_type": "stream",
     "text": [
      " 94%|█████████▍| 16/17 [56:09<03:22, 202.37s/it]/tmp/ipykernel_4023695/1565256794.py:27: SettingWithCopyWarning: \n",
      "A value is trying to be set on a copy of a slice from a DataFrame.\n",
      "Try using .loc[row_indexer,col_indexer] = value instead\n",
      "\n",
      "See the caveats in the documentation: https://pandas.pydata.org/pandas-docs/stable/user_guide/indexing.html#returning-a-view-versus-a-copy\n",
      "  df_translated['extracted'] = df_translated['translated_content'].apply(extract_text)\n",
      "/tmp/ipykernel_4023695/1565256794.py:28: SettingWithCopyWarning: \n",
      "A value is trying to be set on a copy of a slice from a DataFrame.\n",
      "Try using .loc[row_indexer,col_indexer] = value instead\n",
      "\n",
      "See the caveats in the documentation: https://pandas.pydata.org/pandas-docs/stable/user_guide/indexing.html#returning-a-view-versus-a-copy\n",
      "  df_translated[\"translated\"] = [\"yes\"] * len(df_translated)\n"
     ]
    },
    {
     "name": "stdout",
     "output_type": "stream",
     "text": [
      "Adding 31426 new rows to final df\n",
      "Archivo procesado: /export/data_ml4ds/NextProcurement/PLACE/Septiembre2024/procurements_file_6_containing_251105_docs_mark_fixed.parq en 44.56652760505676 segundos\n"
     ]
    },
    {
     "name": "stderr",
     "output_type": "stream",
     "text": [
      "100%|██████████| 17/17 [59:50<00:00, 211.19s/it]\n"
     ]
    }
   ],
   "source": [
    "path = \"/export/data_ml4ds/NextProcurement/PLACE/Septiembre2024\" \n",
    "output_path = \"/export/data_ml4ds/NextProcurement/PLACE/processed_all_feb_19\"\n",
    "\n",
    "all_files = [os.path.join(path, f) for f in os.listdir(path) if f.endswith('.parq')]\n",
    "\n",
    "### Filter by \"tecnicas\"\n",
    "palabras_clave = ['tecnicas']\n",
    "regex = '|'.join(palabras_clave)\n",
    "\n",
    "df_all = []\n",
    "for file in tqdm(all_files, total=len(all_files)):\n",
    "    df = pd.read_parquet(file)\n",
    "\n",
    "    start_time = time.time()\n",
    "    df = df[df['doc_name'].str.contains(regex, na=False, case=False)]\n",
    "\n",
    "    #Cuidado que los campo de \"alternative_lang\" y \"translated_content\" para los documentos no traducidos puede tener el valor None / null,\n",
    "    #o puede ser un string vacío. Para evitar cualquier problema recomendamos mirar expresamente que \"alternative_lang\" sea \"ca\", \"gl\", o \"eu\" y usar \"translated_content\" solo en estos casos.\"\n",
    "    \n",
    "    if \"translated_content\" in df.columns:\n",
    "        \n",
    "        ddf = df.loc[df['translated_content'].notnull()]\n",
    "        df_translated = ddf.loc[df['alternative_lang'].isin(['gl', 'ca', 'eu'])]\n",
    "        indices_in_df_cat = df_translated.index\n",
    "        df_es = ddf[~ddf.index.isin(df_translated)] # Filter df to get rows that are not in df_translated\n",
    "        \n",
    "        df_translated['extracted'] = df_translated['translated_content'].apply(extract_text)\n",
    "        df_translated[\"translated\"] = [\"yes\"] * len(df_translated)\n",
    "        \n",
    "        df_es['extracted'] = df_es['content'].apply(parse_xml_from_bytes)\n",
    "        df_es[\"translated\"] = [\"no\"] * len(df_es)\n",
    "        df_es_translated = pd.concat([df_translated,df_es])\n",
    "        print(f\"Adding {len(df_es_translated)} new rows to final df\")\n",
    "\n",
    "    else:\n",
    "        #df['extracted_tags'] = df['content'].apply(extract_all_xml_tags)\n",
    "        #df['texto_heading'] = df['content'].apply(extract_heading_text)\n",
    "        #df['extracted'] = df['content'].apply(parse_xml_from_bytes)\n",
    "        #df[\"translated\"] = [\"no\"] * len(df)\n",
    "        print(\"No debería entrar aquí\")\n",
    "    \n",
    "    df_es_translated = df_es_translated[['procurement_id', 'doc_name', 'extracted', 'alternative_lang', 'translated']]\n",
    "  \n",
    "    end_time = time.time()\n",
    "    print(f\"Archivo procesado: {file} en {end_time - start_time} segundos\")\n",
    "    df_all.append(df_es_translated)\n",
    "    \n",
    "    # Construir el nombre del nuevo archivo conservando el nombre original pero cambiando la ruta\n",
    "    new_file_path = os.path.join(output_path, os.path.basename(file))\n",
    "    # Guardar el DataFrame en la nueva ruta\n",
    "    df_es_translated.to_parquet(new_file_path)\n",
    "    \n",
    "df_all = pd.concat(df_all)"
   ]
  },
  {
   "cell_type": "code",
   "execution_count": 20,
   "id": "fb4cfa8d-1887-4a98-9230-6a9c741d251c",
   "metadata": {},
   "outputs": [
    {
     "data": {
      "text/plain": [
       "'Servicios ¡ Aigues de Barberá Empresa Municipal S A C Cireumvalación. 14 Tfno. 93 72946 02 08210 - Barbera del Valles e-mail: infora sabemsa.cat web: wwwsabemsa.cat PLIEGO DE PRESCRIPCIONES TECNICAS DEL ACUERDO MARCO DE SUMINISTRO DE MATERIALES PARA OBRA CIVIL Servicios ¡ Aigues de Barberá Empresa Municipal S A C Cireumvalación. 14 Tfno. 93 72946 02 08210 - Barbera del Valles e-mail: infora sabemsa.cat web: wwwsabemsa.cat Sumario 0]] - Estimación del volumen de contratación ......................--...... ... . ._. r re eee eee eee Materiales a suministrar ........................e..ee000000reemeeo D D D IDO ÉÉÉ E Z C EÉ EG e I eee Características generales de los artículos de todos los lOts........................reeeeceeceececi e LOTE 1: características específicas de los HORMIGONES..................eeececmencccccccererer eeec D < A O A D INA- A Z ANE A m cocccecocncccecacaceecaceeaaaccanaccacacacacaaccecacccena % 6. LOTE2: características específicas de CIMENTOS, MORTEROS . MATERIAL CERÁMICO........... 6 ; 7. LOTE3: características específicas de MEZCLAS BITUMINOSAS. .............eeeecececrnrercrnneraros O í 8. LOTA4: características específicas de SUELOS · MATERIALES GRANULARES................ccccecees 9 á— 9. LOTE5: características específicas de los ELEMENTOS DE HORMIGÓN PREBRICADO ................ 11 5o 10. LOTE 6: características específicas de las LOSAS DE MORTER DE CEMENTO ................ 12 í 11. LOTE 7: características específicas de OTROS ARTÍCULOS POR OBRA CIVIL (ACER, : SEÑALIZACION : CIERRES)............eercrererciceereeeenene eee De enenerereceenereceeneneeneeneenees 13 í 12. Memoria descriptiva ...................evee=eerrericecie e e ceccececececececererecerasereneseneeerererereremeeres 13 E 13. Medios humanos y materiales...........................eerecerececcecce reccc D RR RRR 1 % 14. Forma de suministro...........................m..eeeeee0e eR D D D RIITÉTÉÉER II EZEC E eee 19 % 15. Encargo, entrega y comprobación de los materiales...................eeecececece e 1O í 16. Garantía de los materiales ..............................m..ee0000000eD eR DR R I D I ER I I s 17 - 17. Prevención de riesgos laborales..........................m..ee000meeee R D III I I REEIIIRI IDÉ EIEI E 17 Responsable del contrato por parte de /empresa.................eeeeccceciccc . 18 Responsable del acuerdo marco por parte de SABEMSA...............eeccececrcecenencocererereeeeererecee 19 Informes de seguimiento.......................r.eeeeecrmeeeccece re e eee eeee eeec eeeeccc 18 Otras consideraciones del contrato............................esrceeceeer e D ¡ ZEEÉ É Z ÉÉÉÉ Ée 19 Servicios ¡ Aigues de Barberá Empresa Municipal S A C Cireumvalación. 14 Tfno. 93 72946 02 08210 - Barbera del Valles e-mail: infora sabemsa.cat web: wwwsabemsa.cat Objeto. Es objeto de este pliego la regulación de las características de los materiales a suministrar, así como el resto de condiciones técnicas que regirán la ejecución del presente acuerdo suministro de materiales para obra civil, para cubrir las necesidades de SABEMSA por desarrollo tanto de sus propias actividades como las que le son encomendadas por Ayuntamiento de Barbera del Valles. 3 € El objeto del contrato se divide en 7 lotes: Í= LOTE 1. Hormigones. CPV 44114000-2 E-: LOTE 2. Cementos, morteros y material cerámico. CPV 44111200-3 / 44111800-9 / 44111100-2 S LOTE 3. Mezclas bituminosas. CPV 44113620-7 ;%... LOTE 4. Suelos y materiales granulares. CPV 14211000-3 / 14212110-4 / 14212400-4 LOTE 5. Elementos de hormigón prefabricado. CPV 44114200-4 / 44114220-0 / 45223822-4 1 LOTE 6. Losas de mortero de cemento. CPV 44113130-5 Í... LOTE 7. Otros artículos por obra civil (acero, CPV 44332000-6 / 34992100-8 / 44423400-5 / : señalización ¡ cerramientos). 34928200-0 ; 2. Estimación del volumen de contratación n E— La naturaleza y destino de los artículos y productos a suministrar en virtud del presente acuerdo $ marcoimpide que se puedan detallar con exactitud los contratos que se suscribirán durante la ZÁ_ vigencia total del acuerdo marco, ya que estos dependerán no solo de las obras programadas, sino también de los eventos, como averías o encargos extraordinarios del Barberá del Vallés, que sucedan durante la vigencia del acuerdo marco. Es por eso que el valor máximo que se prevé a continuación no es exacto sino estimativo, ya que se ha tomado como partida el volumen de gasto de años anteriores. ... Servicios ¡ Aigues de Barberá Empresa Municipal S A C Cireumvalación. 14 Tfno. 93 72946 02 08210 - Barbera del Valles e-mail: infora sabemsa.cat web: wwwsabemsa.cat ... * En todo caso, este valor tiene carácter orientativo y no vinculante, en tanto que SABEMSA no resta obligada pues a agotar el mencionado importe, dado que los importes de los contratos Vacord marco responden mayoritariamente a necesidades que no pueden preverse, y una vez finalizado el contrato del acuerdo marco podrían suponer una guanteidad inferior a la inicialmente prevista. 3 Acuerdo marco responden mayoritariamente a necesidades que no pueden preverse, y una vez finalizado g el contrato del acuerdo marco podrían suponer una guanteidad inferior a la inicialmente prevista. < 3 a ¿3. Materiales a suministrar 1 Los materiales y/o artículos a suministrar deben reunir las características y prestaciones que í_— se indican en este pliego. g Es muy importante tener presente que los materiales incluidos en este pliego ; previsiones y estimaciones de las necesidades que SABEMSA puede llegar a requerir para llevar a T término obras ¡ actuaciones de naturaleza, ambit ¡ alcance muy diverso. Sin embargo, en los siguientes g apartados se identifican claramente los materiales que, tomando como referencia gastos de años = anteriores, presentan más rotación en SABEMSA. :4. Características generales de los artículos de todos los lotes a Para poder suministrar los artículos ¡ productos especificados en el presente acuerdo marco, el fabricante distribuidor debe tener establecido un sistema de gestión de calidad para su proceso de producción ¡ gestión de acuerdo con EN ISO 9001, verificado ¡ auditado periodicamente por una empresa acreditada como entidad de certificación. Con motivo de poder valorar que los productos que se ofrecen tienen las características solicitadas en este pliego, los licitadores podrán ser requeridos para aquella documentación técnica que los servicios técnicos de SABEMSA consideren acreditar aquellos aspectos. Por parte de los servicios técnicos de la sociedad municipal se valorara la calidad y trazabilidad de los productos que se ofrecen mediante: Las fichas de materiales Marcado CE Declaración de prestaciones Servicios ¡ Aigues de Barberá Empresa Municipal S A C Cireumvalación. 14 Tfno. 93 72946 02 08210 - Barbera del Valles e-mail: infora sabemsa.cat web: wwwsabemsa.cat Otros certificados o documentación relacionada con los productos a suministrar. En los supuestos en que para describir un artículo o material las prescripciones referencia a una fabricación o procedencia determinada, marca, patente y/o tipo ejemplificativo, por no ser posible hacer una descripción bastante precisa ¡ inteligible del objeto del contrato en aplicación del apartado 5 del artículo 126 de la LCSP, es posible ofrecer productos prestaciones, funcionalidades, estéticas, etc. que los indicados en los pliegos. El licitador deberá justificar la equivalencia de las funcionalidades y prestaciones del producto que ofrece los solicitados en este pliego, de conformidad con el apartado 8 del artículo 126 de la Ley 9/2017, de 8 de noviembre, de Contratos del Sector Público (LCSP). y % En relación a todos aquellos materiales de los que se especifiquen las características técnicas o alguna otra cualidad específica, no se podrán sustituir por productos alternativos si no ; cumplen exactamente con el detalle pedido. | SABEMSA se reserva el derecho de pedir muestras y otra información sobre el material que se ofrece. ó 1 Todos los productos serán de primera calidad y deberán cumplir las especificaciones técnicas f... de las normas UNE que les sean de aplicación o de las previstas en la Normativa Europea (EN), : así como las que se deriven de cualquier otra, debiéndose justificar dicho cumplimiento en 3\\'E cualquier momento a petición de SABEMSA. s » Las ofertas se presentarán para la totalidad de cada lote. Los licitadores pueden presentarse al lote o - lotes que consideren, de la misma manera que también se pueden presentar a todos los lotes. un = Los contratistas deberán garantizar que los productos suministrados cumplan las condiciones % siguientes: 5 E - Serán de primera calidad y de fabricante cualificado. Serán nuevos y con marcado CE. v ray s A r r r r A C r A No se admitirán materiales sin certificado actualizado de calidad y seguimiento de la norma Uno que corresponda. El almacenaje y la manipulación se hará siguiendo las recomendaciones del fabricante. El suministro incluye la adquisición, el transporte y la entrega del producto. LOTE 1: características específicas de los HORMIGONES La relación estimada de los materiales que forman este lote es la que consta en el pliego. Dentro de esta relación se distinguen dos grupos de artículos: Hormigones fabricados en central (hormigones en masa HMi hormigones armados HA). Hormigones no fabricados en central (hormigones secos). Servicios ¡ Aigues de Barberá Empresa Municipal S A C Cireumvalación. 14 Tfno. 93 72946 02 08210 - Barbera del Valles e-mail: infora sabemsa.cat web: wwwsabemsa.cat No existe obligación por parte de SABEMSA de agotar la cantidad económica licitada por adquisición de materiales se ajustara a las necesidades que acontezcan para desarrollo de las tareas propias de la sociedad municipal. Estos hormigones deben cumplir, en todo momento y para cualquier aspecto, la Instrucción de Hormigón Estructural (EHE-08): Tipos, características y normativas de los materiales que componen el hormigón, proceso de fabricación, transporte ¡ suministro a obra, especificaciones técnicas, calidad, certificados, etc. A modo de resumen de la relación completa de hormigones que se incluye en el anexo 1, se siguiente tabla de las características y especificaciones concretas solicitadas: < DN E . Resistencias. . s ó Tipos de s Tipos de Medidas máximas | Clases generales < - características an s , o ú hormigón consisténcia de lárido (mm) de exposición = (MP3) S ] 5 HNE | as Nl a | I 5 La descripción detallada ¡ especificaciones de cada uno de los artículos de este lote se encuentran g recogidas en la relación de materiales incluida en el indicado anexo 1. < g— Los artículos que históricamente presentan a SABEMSA una mayor rotación son los siguientes: % - Hormigón seco suministrado en sacas de hasta 1000 Kg, tipo big bag, para preparación de - hormigón de resistencia característica a la compresión a los 28 días de un mínimo de 15 MPa, a Hormigón seco suministrado en sacas de hasta 1000 Kg, tipo big bag, para preparación hormigón de resistencia característica a la compresión a los 28 días de un mínimo de 15 MPa, con un tamaño máximo del áarido de 40 mm en todo caso, para uso no estructural y según especificaciones del anexo 18 de la Instrucción de Hormigón Estructural EHE-08 (HNE-15). Hormigón seco suministrado en sacas de hasta 1000 Kg, tipo big bag, para preparación hormigón de resistencia característica a la compresión a los 28 días de un mínimo de 15 MPa, con un tamaño máximo del árido de 10 mm en todo caso, para uso no estructural y según especificaciones del anexo 18 de la Instrucción de Hormigón Estructural EHE-08 (HNE-15). características específicas de CIMENTOS, MORTEROS MATERIAL CERAMICO El lote 2 está conformado por los artículos que se relacionan en la siguiente tabla y deberán cumplir especificaciones y características detalladas, así como con la normativa indicada. Servicios ¡ Aigues de Barberá Empresa Municipal S A C Cireumvalación. 14 Tfno. 93 72946 02 08210 - Barbera del Valles e-mail: infora sabemsa.cat web: wwwsabemsa.cat ... Servicios ¡ Aigues de Barberá Empresa Municipal S A C Cireumvalación. 14 Tfno. 93 72946 02 08210 - Barbera del Valles e-mail: infora sabemsa.cat web: wwwsabemsa.cat En la tabla anterior se resaltan en negrita aquellos artículos que presentan mayor rotación en SABEIVISA. No existe obligación por parte de SABEMSA de agotar la cantidad económica licitada por adquisición de materiales se ajustara a las necesidades que acontezcan para desarrollo de las tareas propias de la sociedad municipal. LOTE 3: características específicas de MEZCLAS BITUMINOSAS. Dentro del lote 3 se distinguen dos tipos de materiales: - Asfaltos en frío. 3 - Asfaltos en frío. g - Mezclas bituminosas en caliente. 4 ; No existe obligación por parte de SABEMSA de agotar la cantidad económica licitada por el adquisición de materiales se ajustara a las necesidades que acontezcan para el E_ desarrollo de las tareas propias de la sociedad municipal. hl E\\' Los aglomerados asfaltados en frío deben cumplir las especificaciones de la norma UNE EN 13043. S Por otra parte, las mezclas bituminosas en caliente a suministrar deben ajustarse a la norma Í-_ UNE EN 13108, así como a las disposiciones establecidas en el pliego de prescripciones técnicas S generales para obras de carreteras y puentes (PG-3). € Es necesario indicar que los asfaltos en frío son aquellos materiales de mayor rotación en SABEMSA. = En concreto se relacionan los siguientes: < - - Aglomerado asfáltico en frío compuesto por mezcla de árido 4/6 mm al 90-95 % ¡ ligando S bituminoso C67BPFB4 según norma UNE EN 13808 al 5-10 %, según g norma UNE EN 13043, o características similares, suministrado en tarros. = - Aglomerado asfáltico en frío compuesto por mezcla de árido 4/6 mm al 90-95 % ¡ ligando bituminoso C67BPFB4 según norma UNE EN 13808 al 5-10 %, según norma UNE EN 13043, o características similares, suministrado en sacas de hasta 1000 Las mezclas bituminosas en caliente del lote 3 se relacionan en el anexo 2 y deberán cumplir con especificaciones y la normativa indicada. Dentro de estas condiciones, las características Dichas mezclas bituminosas (árido, capa de uso, ligando y tipo de granulometría) serán las indicadas o similares. A modo de resumen de la referida relación completa, se exponen en la siguiente tabla características y especificaciones concretas que allí figuran. ... Servicios ¡ Aigues de Barberá Empresa Municipal S A C Cireumvalación. 14 Tfno. 93 72946 02 08210 - Barbera del Valles e-mail: infora sabemsa.cat web: wwwsabemsa.cat características específicas de SUELOS · MATERIALES GRANULARES El lote 4 está conformado por 7 familias de materiales granulométricos: Todo-Uno (todo-uno). Todo-Ú (zahorra). Sauló. Machaca. 3 - . Grava. - E - Pedraple. [a] < = Los materiales incluidos dentro de estas familias se relacionan en las tablas resumen siguientes y z . deberán cumplir con las especificaciones y características definidas, así como z normativa indicada. En el anexo 3 se incluye el listado con el detalle descriptivo de materiales y las especificaciones concretas que deben reunir. o T - o Tipo de suelo según Pliego de Prescripciones Tivus de Index CBR determinado ó Técnicas Generales para obras de carreteras y suministro según norma UNE en puentes (PG-3) 103502 y Seleccionado - de acopio medianante y camión 3 a ... Servicios ¡ Aigues de Barberá Empresa Municipal S A C Cireumvalación. 14 Tfno. 93 72946 02 08210 - Barbera del Valles e-mail: infora sabemsa.cat web: wwwsabemsa.cat ... En las tablas anteriores se resaltan en negrita aquellos artículos que presentan más rotación en SABEIVISA. Servicios ¡ Aigues de Barberá Empresa Municipal S A C Cireumvalación. 14 Tfno. 93 72946 02 08210 - Barbera del Valles e-mail: infora sabemsa.cat web: wwwsabemsa.cat No existe obligación por parte de SABEMSA de agotar la cantidad económica licitada por adquisición de materiales se ajustara a las necesidades que acontezcan para desarrollo de las tareas propias de la sociedad municipal. características específicas de los ELEMENTOS DE HORMIGÓN PREBRICADO El lote 5 está conformado por artículos de hormigón prefabricado en masa y elementos de hormigón prefabricado armado para redes e instalaciones de saneamiento y drenaje urbano. % Todos estos artículos deben cumplir, en todo momento y para cualquier aspecto, las especificaciones 5¡ pertinentes ¡ aplicables recogidas en: - Norma UNE-EN 1917:2008 Pozos de registro y cámaras de inspección de hormigón en masa, Z hormigón armado, y hormigón con fibras de acero. g - Norma UNE 127917 Pozos de registro y cámaras de inspección de hormigón en masa, S hormigón armado, y hormigón con fibras de acero. Complemento nacional a la norma UNE-EN o 1917:2021. \\'I%_ - . Guía técnica sobre redes de saneamiento y drenaje urbano, publicada por el CEDEX. Í - NRecomendaciones para tuberías de hormigón armado en redes de saneamiento y drenaje, Publicado por el CEDEX. % No existe obligación por parte de SABEMSA de agotar la cantidad económica licitada por este Q lote, sino que la adquisición de artículos se ajustara a las necesidades que acontezcan para el E desarrollo de las tareas propias de la sociedad municipal. 72 La relación completa de artículos de este lote y la descripción detallada y especificaciones de cada uno g de ellos se incluye en el anexo 4. A modo de resumen, se expone la siguiente tabla: = ... Servicios ¡ Aigues de Barberá Empresa Municipal S A C Cireumvalación. 14 Tfno. 93 72946 02 08210 - Barbera del Valles e-mail: infora sabemsa.cat web: wwwsabemsa.cat características específicas de las LOSAS DE MORTER CEMENTO El lote 6 está conformado por los artículos que se relacionan en la siguiente tabla y deberán cumplir especificaciones y características detalladas, así como con la normativa indicada. ... En la tabla anterior se resaltan en negrita aquellos artículos que presentan mayor rotación en SABEIVISA. No existe obligación por parte de SABEMSA de agotar la cantidad económica licitada por adquisición de materiales se ajustara a las necesidades que acontezcan para desarrollo de las tareas propias de la sociedad municipal. Servicios ¡ Aigues de Barberá Empresa Municipal S A C Cireumvalación. 14 Tfno. 93 72946 02 08210 - Barbera del Valles e-mail: infora sabemsa.cat web: wwwsabemsa.cat 11. LOTE 7: características específicas de OTROS ARTÍCULOS POR OBRA CIVIL (ACERO, SEÑALIZACIÓN \\xad CIERRES) Dentro del lote 7 se distinguen los siguientes tipos de artículos: Barras de acero corrugado. Mallas electrosoldadas conformadas por barras de acero corrugado. Señalización de obra. Cierre de obra. 3 No existe obligación por parte de SABEMSA de agotar la cantidad económica licitada por este adquisición de materiales se ajustara a las necesidades que acontezcan para el Í desarrollo de las tareas propias de la sociedad municipal. z J. En el anexo 5 se incluye una relación completa del abanico de artículos que conforman este lote E_ pueden ser requeridos por SABEMSA para el desarrollo de su actividad. hl E\\' Los diferentes artículos que componen este lote deberán cumplir con las especificaciones, S normativa y características detalladas en dicho anexo 5. Y el 12. Memoria descriptiva = Estructura y contenido. Las empresas que quieran participar en esta licitación deberán presentar una memoria descriptiva (Sobre B de la licitación), donde deberán tratar, por r S orden, sobre los aspectos que se señalan a continuación: % 1) Descripción de la empresa que se presenta, relación de las certificaciones de las cuales - dispone. Descripción del servicio de atención al cliente, con respecto a: a. Servicio de atención comercial y pedidos b. Servicio de urgencias C. Servicio postventa d. Soporte técnico Se detallará, como mínimo, horario de atención, el teléfono, el correo electrónico, el de contacto, la existencia de plataforma online, etc. Se incluirá una relación de los almacenes de que se dispone, ¡se detallarán los plazos entrega, la disponibilidad y rapidez para el suministro de recambios, la gestión y el tiempo de resolución de incidencias, etc. Relación de los artículos y productos que suministra de entre los que se requieren en el presente acuerdo marco, clasificados por lotes y familias, con indicación de la norma de fabricación, marca y modelo. Servicios ¡ Aigues de Barberá Empresa Municipal S A C Cireumvalación. 14 Tfno. 93 72946 02 08210 - Barbera del Valles e-mail: infora sabemsa.cat web: wwwsabemsa.cat En los supuestos de resultar adjudicatarios, solo se aceptarán los productos que correspondan con el fabricante y el modelo del producto que indicaron en esta Memoria descriptiva. Se entiende por familia como el conjunto de materiales con las mismas características constructivas ¡ funcionales, por ejemplo familia de accesorios de polietileno inyectados largo, o familia de accesorios de polietile con resistencia electrosoldable. Los contratistas deberán garantizar con los certificados acreditativos que adecuados, que los productos suministrados cumplan las siguientes condiciones: Serán de primera calidad y de fabricante cualificado. Serán nuevos ¡ con marcaje 3 e 1 AA MA AGA A AA Y AA SAZ AEZANO E CE. Í b. No se admitirán materiales sin certificado actualizado de calidad ¡ seguimiento de $ la norma UNE que corresponda. ; C. El almacenamiento y la manipulación se hará siguiendo las recomendaciones del á— fabricante. P Requisitos de extensión y formato: La memoria deberá establecerse de forma concisa en un único í documento electrónico. Los apartados 1 y 2 se deberán desarrollar en un máximo de 5 páginas, y : Vapartado 3 en un máximo de 5 páginas por lote. Así, por ejemplo, la empresa licitadora 3,noá\\' presente solo a un lote, dispusiera de 5 páginas para desarrollar los apartados 1 ¡ 2 de la ñ memoria, ¡5 páginas más para desarrollar el apartado 3; La empresa licitadora que se presente a Í\\'_ dos lotes, dispondrá de 5 páginas para desarrollar los apartados 1i2 de la memoria, ¡ 10 páginas € más para desarrollar el apartado 3; ¡ así sucesivamente. En caso de superarse la extensión \\'g— máxima permitida, incluidos los anexos, sólo serán objeto de valoración las primeras páginas $ hasta completar el número total máximo del que disponía aquel licitador, sin tener en cuenta ZÁ_ la portada ¡ \\' índice. E Al maatrailua la manmamria ?kharirra da rardarkar amalas ia CrRalake mafaima 1 S llakra mafmnimasas Arral 1A Asimismo, la memoria deberá redactarse con un espaciado mínimo 1,0 ¡letra mínima Arial 10. Se podrán aportar anexos que únicamente complementarán la información de la propuesta. Los que se adjunten como anexos solo servirán para acreditar los aspectos detallados en la propia memoria. Para dar cumplimiento a lo previsto en la letra e) del apartado 9 del artículo 61 del RDLCSE, se conocimiento a las empresas de que los formatos de documentos electrónicos admisibles seglients *doc, *pdf, *zip, *rar, *docx. Criterios de evaluación: evaluación de cada uno de los apartados anteriores incorporados en la propuesta técnica se llevará a cabo atendiendo a los criterios y puntuaciones establecidos a continuación: La memoria se podrá valorar con un máximo de 49 puntos. El apartado 1) de la memoria es podrá valorar con un máximo de 9 puntos. El apartado 2) se podrá valorar con un 20 puntos. • apartado 3) se podrá valorar con un máximo de 20 puntos. Servicios ¡ Aigues de Barberá Empresa Municipal S A C Cireumvalación. 14 Tfno. 93 72946 02 08210 - Barbera del Valles e-mail: infora sabemsa.cat web: wwwsabemsa.cat Cuando la propuesta técnica no trate sobre uno de los aspectos anteriormente descripción realizada sea manifiestamente insuficiente o irrelevante en atención a las necesidades y exigencias de la presente contratación, no se atribuirá ningún punto de los para ese aspecto concreto. Cuando la propuesta técnica presentada haga referencia a uno de los aspectos anteriormente señalados, pero los servicios técnicos de SABEMSA consideren que la licitador no se adecua suficientemente a las exigencias técnicas mínimas en el pliego de prescripciones técnicas (PPT), se atribuirá como máximo el 75 por puntuación establecida para aquel aspecto concreto. % - Cuando la propuesta técnica presentada trate sobre uno de los aspectos anteriormente = . n . n . 1 . S señalados, adecuándose a las exigencias técnicas mínimas establecidas en el PPT, d se atribuirá entre el 75 por ciento y el 100 por ciento de la puntuación correspondiente a aquel 7 aspecto concreto a juicio motivado de los servicios técnicos de SABEMSA. = T A F . . . . S 13. WMedios humanosy materiales .Jgj w— . . . . . . . Las empresas licitadoras deberán disponer del personal y de los medios necesarios para garantizar el N . . . ..7 . . . . g suministro y la prestación de los servicios complementarios que se requieran (asesoramiento ;— técnico, resolución de incidencias, etc. ), en los términos establecidos en el presente pliego. s - A la hora de valorar la memoria descriptiva a que hace referencia la prescripción anterior, se - considerara que aportan un incremento de la calidad del suministro/servicio, ¡por lo tanto se 5 valorarán con la mayor puntuación, aquellas empresas que dispongan de mayores medios v 5 materiales para ejecutar el contrato (por ejemplo: más personal destinado í resolver incidencias en materia de pedidos ¡ facturación, personal especializado por áreas < destinado a resolver consultas de carácter técnico, horario más amplio de atención al cliente, etc. ). Forma de suministro Las cantidades necesarias de cada material se pedirán según las necesidades de SABEMSA. SABEMSA no se compromete a la adquisición de ninguna cantidad mínima de material, esta consulta únicamente a nivel de selección de proveedor. Por lo tanto, las desviaciones en la gastos indicados no podrán ser objeto de penalización alguna. Los licitadores deberán tener en cuenta los siguientes puntos: Posibilidad de suministros urgentes fuera de horario laboral (fines de semana, noches) Descarga en diferentes instalaciones gestionadas por SABEMSA. La entrega de material se realizara, habitualmente, en el almacén de SABEMSA, ubicado en la Calle Servicios ¡ Aigues de Barberá Empresa Municipal S A C Cireumvalación. 14 Tfno. 93 72946 02 08210 - Barbera del Valles e-mail: infora sabemsa.cat web: wwwsabemsa.cat Circunvalación, núm. 14, 08210 Barbera del Valles. En caso de que sea necesario suministrarlo a otras dependencias o a obras específicas (ámbito Barbera del Valles), se indicara en el correspondiente pedido. Los horarios para las descargas quedarán fijados y acordados por los técnicos de SABEMSA. La carga, transporte y descarga de los materiales al punto establecido correrá a cargo de Vadjudicatario. Encargo, entrega y comprobación de los materiales 3 Las empresas adjudicatarias ejecutarán todos los servicios en coordinación y con una comunicación E fluida con SABEMSA. A tal efecto, deberán designar una o varias personas de contacto, 3 telefono y dirección electrónica donde la sociedad municipal pueda dirigir los pedidos de material. 3 a Para garantizar la comunicación y poder atender las urgencias, las empresas dispondrán de una £ dirección de correo electrónico de una línea telefónica con un servicio de atención telefónica disponible á 24 horas diarias todos los días del año, incluidos fines de semana y festivos. ó -E—“ Las empresas adjudicatarias atenderán los avisos en un plazo máximo de 24 horas a contar desde El personal municipal encargado de la instalación o el responsable técnico de la g SABEMSA, le haya comunicado la necesidad. Y ó Esta persona deberá tener suficiente autonomía de decisión para tratar las incidencias que ;\\'_ puedan surgir en la ejecución del suministro. < E_ SABEMSA solicitara el material en función de sus necesidades. En ningún caso se aceptará recibir % más material del solicitado vía pedido, salvo que la sociedad municipal lo autorice por escrito. 5 a El material se suministrará de forma ordinaria al almacén de SABEMSA, ubicado en la calle de la a Circuinvalación número 14 de Barber3 del Vallecs El linnramiento se realizará entre lec 2:00 ¡ lec El material se suministrará de forma ordinaria en el almacén de SABEMSA, ubicado en la calle Circunvalación, número 14, de Barbera del Valles. La entrega se realizará entre las 8:00 y las 12:30 horas, de lunes a viernes no festivo, salvo que se indique lo contrario. En caso necesario, en la petición del material se comunicara si el suministro se realizara en obra o en cualquier otro punto. En todo caso, el punto de entrega siempre será dentro del término Valles. La entrega del material deberá ir acompañado del correspondiente albara de entrega, que deberá firmarse por la persona de la sociedad municipal que reciba el material, previa identificación (nombre y apellido) de la misma. En el caso de defectos en los materiales suministrados o que no corresponda a las especificaciones pliego, SABEMSA podrá rechazarlo de forma que quedara exenta de la pago, teniendo derecho a aplicar, en su caso, las penalizaciones previstas en el PCAP o, incluso, a recuperar el precio indebidamente satisfecho. Servicios ¡ Aigues de Barberá Empresa Municipal S A C Cireumvalación. 14 Tfno. 93 72946 02 08210 - Barbera del Valles e-mail: infora sabemsa.cat web: wwwsabemsa.cat La sociedad municipal también podrá optar por su reposición. En este caso el proveedor deberá recogerlo en el mismo lugar donde lo entregó y reponerlo en el plazo que para aquel caso concreto se fije con SABEMSA. Garantía de los materiales Se fija un plazo de garantía mínimo de 3 años a partir de la recepción del material o producto. Si por el tipo de producto de que se trate el fabricante ha otorgado un plazo superior, será éste el plazo fijado. y % Las empresas adjudicatarias deberán garantizar que los productos que ofrecen [ í todos los requisitos citados en la presente especificación, con la documentación acreditativa adecuada. z Todos los accesorios deben estar libres de defectos ocultos y la fabricación se realizara con las S mejores normas constructivas. La aceptación de los accesorios no exime al constructor de las £ ... . . . , .. T responsabilidades inherentes a la garantía sobre el material. En caso de que después de la aceptación se C manifiestan defectos de elaboración inaceptables, los accesorios defectuosos serán desechados ¡el = El contratista deberá proceder en el mínimo tiempo posible, a la reparación o sustitución de los mismos. s y el 17. Prevención de riesgos laborales o ñ + . . ..7 . - De acuerdo con el artículo 41 de la Ley 31/1995, de 8 de noviembre, de prevención de riesgos laborales, s los fabricantes, importadores y suministradores de maquinaria, equipos, productos y útiles de trabajo E— están obligados a asegurar que éstos no constituyen una fuente de peligro para el trabajador, Le). . . . .. ._. . . g siempre que sean instalados y utilizados en las condiciones, forma y para los fines recomendados por u y ellos . D = a Los fabricantes, importadores y suministradores de productos y sustancias químicas de utilización en el trabajo están obligados a envasarlos y etiquetarlos de manera que se permita su conservación ¡ manipulación en condiciones de seguridad y se identifiquen claramente el contenido y los riesgos para seguridad o la salud de los trabajadores que conlleven su almacenamiento o su utilización. Los sujetos mencionados en los dos párrafos anteriores suministrarán la indique la forma de utilización correcta por los trabajadores, las medidas preventivas deben tomarse los riesgos laborales que comporten tanto su uso normal, como su manipulación o el uso inadecuado. Los fabricantes, importadores y suministradores de elementos para la protección de los trabajadores están obligados a asegurar su efectividad, siempre que sean instalados y usados en las ¡De la forma que ellos recomiendan. A tal efecto, suministrarán la información que el tipo de riesgo al que van dirigidos, el nivel de protección ante el mismo y la forma correcta del su uso y mantenimiento. Servicios ¡ Aigues de Barberá Empresa Municipal S A C Cireumvalación. 14 Tfno. 93 72946 02 08210 - Barbera del Valles e-mail: infora sabemsa.cat web: wwwsabemsa.cat Los fabricantes, importadores y suministradores deben proporcionar a SABEMSA, y esta recoger de aquellos, la información necesaria para que la utilización y manipulación de la maquinaria, productos, primeras materias , útiles de trabajo se produzca sin riesgos para la seguridad ¡ la salud de los trabajadores, así como para que SABEMSA pueda cumplir las respecto a los trabajadores. Responsable del contrato por parte de la empresa El adjudicatario nombrará una persona de referencia única para SABEMSA para resolver cuestiones - derivadas del funcionamiento general del contrato y de las incidencias que puedan surgir como consecuencia % consegiencia de su ejecución. Esta persona será la encargada de recoger los ¡Sugerencias y requerimientos de SABEMSA, en especial, los que hacen referencia al envío ; de información periódica de la actividad contractual con esta sociedad y resolver todas las e, incidéncies durante su despliegue. $ 19. Responsable del acuerdo marco por parte de SABEMSA .Jgj S Se designa como interlocutores de SABEMSA ¡responsables de la coordinación de este Acuerdo 1j Marco al Sr. Jesús M?. García Campmany, encargado ¡jefe de brigada, ¡al Sr. Marcos Calvo Bielsa, 5_ responsable de la sección de Saneamiento. S Q— A los coordinadores del acuerdo marco les corresponde hacer el seguimiento del desarrollo del mismo, Y en concreto: 5 \" la recepción de los informes periódicos de seguimiento, % \" la recogida de sugerencias del resto de personal de SABEMSA, g \" la valoración del nivel de satisfacción del suministro/servicio, e \" j en general, la comprobación, la coordinación y la vigilancia de la correcta implementación de este contrato. Informes de seguimiento Con el fin de facilitar el seguimiento del Acuerdo Marco, cada empresa adjudicataria SABEMSA, en el plazo máximo de 5 días hábiles de los siguientes meses, una relación en todos los pedidos o contratos basados realizados en el mes anterior. Este documento deberá contener, como mínimo, los siguientes datos: - Número de lote del Acuerdo marco. - Fecha y número de pedido. - Fecha de adjudicación (en caso de pedido con licitación). - Objeto detallado de la compra - Importe neto + Iva + Importe total Servicios ¡ Aigues de Barberá Empresa Municipal S A C Cireumvalación. 14 Tfno. 93 72946 02 08210 - Barbera del Valles e-mail: infora sabemsa.cat web: wwwsabemsa.cat Otras consideraciones del contrato El contrato se ejecutará a riesgo y ventura del contratista. Cualquiera que sea el tipo de suministro, el adjudicatario no tendrá derecho a indemnización por causa de perjuicios ocasionados en los bienes antes de su formal entrega a SABEMSA. El contratista es responsable de la calidad técnica de los bienes que se entreguen así como, de las consecuencias que se deduzcan para SABEMSA o para terceros de las omisiones, inadecuados o conclusiones incorrectas en la ejecución del contrato. 3 Es obligación del contratista indemnizar todos los daños y perjuicios que se causen a terceros como o g a consegiencia de las operaciones que requiera la ejecución del contrato. Cuando estos daños y perjuicios hayan sido ocasionados como consecuencia inmediata y directa de una orden de z SABEMSA, será responsable ésta dentro de los límites señalados en la legislación vigente. e, 7 - La prestación se realizara con estricta sujeción al pliego de prescripciones administrativas y a N D Vespecificado en este pliego y los términos y condiciones concretos de cada contrato, según - instrucciones que, por escrito, en ejecución o interpretación de los mismos, diera el responsable del o 5 contrato designado por SABEMSA. mN-” 5 D o n - - u < n = v 5 Ú á 3 = a Servicios ¡ Aigues de Barberá Empresa Municipal S A C Cireumvalación. 14 Tfno. 93 72946 02 08210 - Barbera del Valles e-mail: infora sabemsa.cat web: wwwsabemsa.cat Anexo 1. RELACIÓN ESTIMADA, DESCRIPCIÓN DETALLADA • CARACTERÍSTICAS ESPECÍFICAS DE LOS MATERIALES QUE FORMAN EL LOTE 1: HORMIGONES ... Servicios ¡ Aigues de Barberá Empresa Municipal S A C Cireumvalación. 14 Tfno. 93 72946 02 08210 - Barbera del Valles e-mail: infora sabemsa.cat web: wwwsabemsa.cat ... Servicios ¡ Aigues de Barberá Empresa Municipal S A C Cireumvalación. 14 Tfno. 93 72946 02 08210 - Barbera del Valles e-mail: infora sabemsa.cat web: wwwsabemsa.cat ... Servicios ¡ Aigues de Barberá Empresa Municipal S A C Cireumvalación. 14 Tfno. 93 72946 02 08210 - Barbera del Valles e-mail: infora sabemsa.cat web: wwwsabemsa.cat ... Servicios ¡ Aigues de Barberá Empresa Municipal S A C Cireumvalación. 14 Tfno. 93 72946 02 08210 - Barbera del Valles e-mail: infora sabemsa.cat web: wwwsabemsa.cat ... Servicios ¡ Aigues de Barberá Empresa Municipal S A C Cireumvalación. 14 Tfno. 93 72946 02 08210 - Barbera del Valles e-mail: infora sabemsa.cat web: wwwsabemsa.cat ... Servicios ¡ Aigues de Barberá Empresa Municipal S A C Cireumvalación. 14 Tfno. 93 72946 02 08210 - Barbera del Valles e-mail: infora sabemsa.cat web: wwwsabemsa.cat ... Servicios ¡ Aigues de Barberá Empresa Municipal S A C Cireumvalación. 14 Tfno. 93 72946 02 08210 - Barbera del Valles e-mail: infora sabemsa.cat web: wwwsabemsa.cat ... Servicios ¡ Aigues de Barberá Empresa Municipal S A C Cireumvalación. 14 Tfno. 93 72946 02 08210 - Barbera del Valles e-mail: infora sabemsa.cat web: wwwsabemsa.cat ... Servicios ¡ Aigues de Barberá Empresa Municipal S A C Cireumvalación. 14 Tfno. 93 72946 02 08210 - Barbera del Valles e-mail: infora sabemsa.cat web: wwwsabemsa.cat ... Servicios ¡ Aigues de Barberá Empresa Municipal S A C Cireumvalación. 14 Tfno. 93 72946 02 08210 - Barbera del Valles e-mail: infora sabemsa.cat web: wwwsabemsa.cat ... Servicios ¡ Aigues de Barberá Empresa Municipal S A C Cireumvalación. 14 Tfno. 93 72946 02 08210 - Barbera del Valles e-mail: infora sabemsa.cat web: wwwsabemsa.cat ... Servicios ¡ Aigues de Barberá Empresa Municipal S A C Cireumvalación. 14 Tfno. 93 72946 02 08210 - Barbera del Valles e-mail: infora sabemsa.cat web: wwwsabemsa.cat ... Servicios ¡ Aigues de Barberá Empresa Municipal S A C Cireumvalación. 14 Tfno. 93 72946 02 08210 - Barbera del Valles e-mail: infora sabemsa.cat web: wwwsabemsa.cat ... Servicios ¡ Aigues de Barberá Empresa Municipal S A C Cireumvalación. 14 Tfno. 93 72946 02 08210 - Barbera del Valles e-mail: infora sabemsa.cat web: wwwsabemsa.cat ... Servicios ¡ Aigues de Barberá Empresa Municipal S A C Cireumvalación. 14 Tfno. 93 72946 02 08210 - Barbera del Valles e-mail: infora sabemsa.cat web: wwwsabemsa.cat ... Servicios ¡ Aigues de Barberá Empresa Municipal S A C Cireumvalación. 14 Tfno. 93 72946 02 08210 - Barbera del Valles e-mail: infora sabemsa.cat web: wwwsabemsa.cat ... Servicios ¡ Aigues de Barberá Empresa Municipal S A C Cireumvalación. 14 Tfno. 93 72946 02 08210 - Barbera del Valles e-mail: infora sabemsa.cat web: wwwsabemsa.cat ... Servicios ¡ Aigues de Barberá Empresa Municipal S A C Cireumvalación. 14 Tfno. 93 72946 02 08210 - Barbera del Valles e-mail: infora sabemsa.cat web: wwwsabemsa.cat ... Servicios ¡ Aigues de Barberá Empresa Municipal S A C Cireumvalación. 14 Tfno. 93 72946 02 08210 - Barbera del Valles e-mail: infora sabemsa.cat web: wwwsabemsa.cat Anexo 2. RELACIÓN ESTIMADA, DESCRIPCIÓN DETALLADA • CARACTERÍSTICAS ESPECÍFICAS DE LOS MATERIALES QUE FORMAN EL LOTE 3: MEZCLAS BITUMINOSAS ... Servicios ¡ Aigues de Barberá Empresa Municipal S A C Cireumvalación. 14 Tfno. 93 72946 02 08210 - Barbera del Valles e-mail: infora sabemsa.cat web: wwwsabemsa.cat ... Servicios ¡ Aigues de Barberá Empresa Municipal S A C Cireumvalación. 14 Tfno. 93 72946 02 08210 - Barbera del Valles e-mail: infora sabemsa.cat web: wwwsabemsa.cat ... Servicios ¡ Aigues de Barberá Empresa Municipal S A C Cireumvalación. 14 Tfno. 93 72946 02 08210 - Barbera del Valles e-mail: infora sabemsa.cat web: wwwsabemsa.cat ... - o a e o q < u z 1 a E o n = T N m A o a = = o T o] u a N g ; v u o n = + - K A 5 n [ Ú = o v Ea D a v D = a Servicios ¡ Aigues de Barberá Empresa Municipal S A C Cireumvalación. 14 Tfno. 93 72946 02 08210 - Barbera del Valles e-mail: infora sabemsa.cat web: wwwsabemsa.cat Anexo 3. RELACIÓN ESTIMADA, DESCRIPCIÓN DETALLADA • CARACTERÍSTICAS ESPECÍFICAS DE LOS MATERIALES QUE FORMAN EL LOTE 4: TIERRAS  • MATERIALES GRANULARES ... Servicios ¡ Aigues de Barberá Empresa Municipal S A C Cireumvalación. 14 Tfno. 93 72946 02 08210 - Barbera del Valles e-mail: infora sabemsa.cat web: wwwsabemsa.cat ... Servicios ¡ Aigues de Barberá Empresa Municipal S A C Cireumvalación. 14 Tfno. 93 72946 02 08210 - Barbera del Valles e-mail: infora sabemsa.cat web: wwwsabemsa.cat ... Servicios ¡ Aigues de Barberá Empresa Municipal S A C Cireumvalación. 14 Tfno. 93 72946 02 08210 - Barbera del Valles e-mail: infora sabemsa.cat web: wwwsabemsa.cat Anexo 4. RELACIÓN ESTIMADA, DESCRIPCIÓN DETALLADA • CARACTERÍSTICAS ESPECÍFICAS DE LOS MATERIALES QUE FORMAN EL LOTE 5: ELEMENTOS DE HORMIGÓN PREFABRICADO ... Servicios ¡ Aigues de Barberá Empresa Municipal S A C Cireumvalación. 14 Tfno. 93 72946 02 08210 - Barbera del Valles e-mail: infora sabemsa.cat web: wwwsabemsa.cat ... Servicios ¡ Aigues de Barberá Empresa Municipal S A C Cireumvalación. 14 Tfno. 93 72946 02 08210 - Barbera del Valles e-mail: infora sabemsa.cat web: wwwsabemsa.cat ... Servicios ¡ Aigues de Barberá Empresa Municipal S A C Cireumvalación. 14 Tfno. 93 72946 02 08210 - Barbera del Valles e-mail: infora sabemsa.cat web: wwwsabemsa.cat ... Servicios ¡ Aigues de Barberá Empresa Municipal S A C Cireumvalación. 14 Tfno. 93 72946 02 08210 - Barbera del Valles e-mail: infora sabemsa.cat web: wwwsabemsa.cat ... Servicios ¡ Aigues de Barberá Empresa Municipal S A C Cireumvalación. 14 Tfno. 93 72946 02 08210 - Barbera del Valles e-mail: infora sabemsa.cat web: wwwsabemsa.cat ... Servicios ¡ Aigues de Barberá Empresa Municipal S A C Cireumvalación. 14 Tfno. 93 72946 02 08210 - Barbera del Valles e-mail: infora sabemsa.cat web: wwwsabemsa.cat ... Servicios ¡ Aigues de Barberá Empresa Municipal S A C Cireumvalación. 14 Tfno. 93 72946 02 08210 - Barbera del Valles e-mail: infora sabemsa.cat web: wwwsabemsa.cat Anexo 5. RELACIÓN ESTIMADA, DESCRIPCIÓN DETALLADA • CARACTERÍSTICAS ESPECÍFICAS DE LOS MATERIALES QUE FORMAN EL LOTE 7: OTROS ARTÍCULOS POR OBRA CIVIL (ACERO, SEÑALIZACIÓN \\xad CIERRES) ... Servicios ¡ Aigues de Barberá Empresa Municipal S A C Cireumvalación. 14 Tfno. 93 72946 02 08210 - Barbera del Valles e-mail: infora sabemsa.cat web: wwwsabemsa.cat ... - o a e o q < u z 1 a E g n < T N a A o al = Fe o T o u [ N g ; v u Lol n = + - K A 5 n [ Ú = o v Ea D a v D = a'"
      ]
     },
     "execution_count": 20,
     "metadata": {},
     "output_type": "execute_result"
    }
   ],
   "source": [
    "df_all[df_all.translated == \"yes\"].iloc[0].extracted"
   ]
  }
 ],
 "metadata": {
  "kernelspec": {
   "display_name": "Python 3 (ipykernel)",
   "language": "python",
   "name": "python3"
  },
  "language_info": {
   "codemirror_mode": {
    "name": "ipython",
    "version": 3
   },
   "file_extension": ".py",
   "mimetype": "text/x-python",
   "name": "python",
   "nbconvert_exporter": "python",
   "pygments_lexer": "ipython3",
   "version": "3.10.11"
  }
 },
 "nbformat": 4,
 "nbformat_minor": 5
}
